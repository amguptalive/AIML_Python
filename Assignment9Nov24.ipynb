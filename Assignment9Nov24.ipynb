{
 "cells": [
  {
   "cell_type": "code",
   "execution_count": 1,
   "id": "6aeab1d9-fc8e-48a5-9e35-a3b01c419247",
   "metadata": {},
   "outputs": [
    {
     "name": "stdin",
     "output_type": "stream",
     "text": [
      "Input the size of array 4\n"
     ]
    },
    {
     "name": "stdout",
     "output_type": "stream",
     "text": [
      "[0, 0, 0, 0]\n"
     ]
    }
   ],
   "source": [
    "def create_zeros_array(n):\n",
    "    arr=[]\n",
    "    for i in range(n):\n",
    "        arr.append(0)\n",
    "    return arr\n",
    "n=int(input(\"Input the size of array\"))\n",
    "my_arr=create_zeros_array(n)\n",
    "print(my_arr)"
   ]
  },
  {
   "cell_type": "code",
   "execution_count": 2,
   "id": "8fbc4722-ca5e-41e8-9968-4f9bdf06edf0",
   "metadata": {},
   "outputs": [
    {
     "name": "stdout",
     "output_type": "stream",
     "text": [
      "[0, 0, 0, 0]\n"
     ]
    }
   ],
   "source": [
    "# other way of achieving above is but we should use readable code as much as possible as above. It will be easier to explain to others:\n",
    "n=4\n",
    "print([0 for i in range(n)] )"
   ]
  },
  {
   "cell_type": "code",
   "execution_count": 17,
   "id": "78304411-ce65-4364-8e8f-3a070c2a901a",
   "metadata": {},
   "outputs": [
    {
     "data": {
      "application/vnd.jupyter.widget-view+json": {
       "model_id": "68275870b7b349509d9c19ec2de2252d",
       "version_major": 2,
       "version_minor": 0
      },
      "text/plain": [
       "Combobox(value='Option 1', description='Select:', options=('Option 1', 'Option 2', 'Option 3', 'Option 4'))"
      ]
     },
     "metadata": {},
     "output_type": "display_data"
    }
   ],
   "source": [
    "import ipywidgets as widgets\n",
    "from IPython.display import display\n",
    "\n",
    "def delete(combo_box, indices_to_delete):\n",
    "    # Sort indices in descending order to avoid shifting issues\n",
    "    indices_to_delete.sort(reverse=True)\n",
    "\n",
    "    options = list(combo_box.options)  # Convert options to a list\n",
    "\n",
    "    for index in indices_to_delete:\n",
    "        if 0 <= index < len(options):\n",
    "            options.pop(index)\n",
    "\n",
    "    combo_box.options = tuple(options)  # Convert back to a tuple\n",
    "\n",
    "# Create a combo box\n",
    "combo_box = widgets.Combobox(\n",
    "    options=['Option 1', 'Option 2', 'Option 3', 'Option 4'],\n",
    "    value='Option 1',\n",
    "    description='Select:',\n",
    "    disabled=False\n",
    ")\n",
    "\n",
    "# Display the combo box\n",
    "display(combo_box)\n",
    "\n",
    "# Indices to delete\n",
    "indices_to_delete = [1,3]\n",
    "\n",
    "# Call the delete function\n",
    "delete(combo_box, indices_to_delete)"
   ]
  },
  {
   "cell_type": "code",
   "execution_count": 6,
   "id": "be836bab-0843-49f8-b0df-f32da6934976",
   "metadata": {},
   "outputs": [
    {
     "name": "stdout",
     "output_type": "stream",
     "text": [
      "[1, 2, 3]\n",
      "1\n"
     ]
    }
   ],
   "source": [
    "l = [[1,2,3],[4,6,7]]\n",
    "print(l[0])\n",
    "print(l[0][0])"
   ]
  },
  {
   "cell_type": "code",
   "execution_count": 3,
   "id": "311e45a9-5b7d-4b67-98b3-01ab051234b6",
   "metadata": {},
   "outputs": [
    {
     "name": "stdout",
     "output_type": "stream",
     "text": [
      "Element at (0, 0) in matrix1: 1\n",
      "Element at (0, 0) in matrix2: 10\n"
     ]
    },
    {
     "ename": "IndexError",
     "evalue": "list index out of range",
     "output_type": "error",
     "traceback": [
      "\u001b[0;31m---------------------------------------------------------------------------\u001b[0m",
      "\u001b[0;31mIndexError\u001b[0m                                Traceback (most recent call last)",
      "Cell \u001b[0;32mIn[3], line 35\u001b[0m\n\u001b[1;32m     31\u001b[0m matrix2 \u001b[38;5;241m=\u001b[39m [[\u001b[38;5;241m10\u001b[39m, \u001b[38;5;241m11\u001b[39m, \u001b[38;5;241m12\u001b[39m],\n\u001b[1;32m     32\u001b[0m        [\u001b[38;5;241m13\u001b[39m, \u001b[38;5;241m14\u001b[39m, \u001b[38;5;241m15\u001b[39m],\n\u001b[1;32m     33\u001b[0m        [\u001b[38;5;241m16\u001b[39m, \u001b[38;5;241m17\u001b[39m, \u001b[38;5;241m18\u001b[39m]]\n\u001b[1;32m     34\u001b[0m result\u001b[38;5;241m=\u001b[39m[]\n\u001b[0;32m---> 35\u001b[0m result\u001b[38;5;241m=\u001b[39m \u001b[43madd_matrices\u001b[49m\u001b[43m(\u001b[49m\u001b[43mmatrix1\u001b[49m\u001b[43m,\u001b[49m\u001b[43mmatrix2\u001b[49m\u001b[43m)\u001b[49m\n\u001b[1;32m     36\u001b[0m \u001b[38;5;28;01mfor\u001b[39;00m i \u001b[38;5;129;01min\u001b[39;00m \u001b[38;5;28mrange\u001b[39m(\u001b[38;5;28mlen\u001b[39m(result)):\n\u001b[1;32m     37\u001b[0m         \u001b[38;5;28;01mfor\u001b[39;00m j \u001b[38;5;129;01min\u001b[39;00m \u001b[38;5;28mrange\u001b[39m(\u001b[38;5;28mlen\u001b[39m(matrix2[\u001b[38;5;241m0\u001b[39m])):\n",
      "Cell \u001b[0;32mIn[3], line 23\u001b[0m, in \u001b[0;36madd_matrices\u001b[0;34m(matrix1, matrix2)\u001b[0m\n\u001b[1;32m     21\u001b[0m         \u001b[38;5;28mprint\u001b[39m(\u001b[38;5;124mf\u001b[39m\u001b[38;5;124m\"\u001b[39m\u001b[38;5;124mElement at (\u001b[39m\u001b[38;5;132;01m{\u001b[39;00mi\u001b[38;5;132;01m}\u001b[39;00m\u001b[38;5;124m, \u001b[39m\u001b[38;5;132;01m{\u001b[39;00mj\u001b[38;5;132;01m}\u001b[39;00m\u001b[38;5;124m) in matrix2: \u001b[39m\u001b[38;5;132;01m{\u001b[39;00mmatrix2[i][j]\u001b[38;5;132;01m}\u001b[39;00m\u001b[38;5;124m\"\u001b[39m)\n\u001b[1;32m     22\u001b[0m         \u001b[38;5;66;03m# Perform operations on the elements, e.g., addition, subtraction, etc.\u001b[39;00m\n\u001b[0;32m---> 23\u001b[0m         \u001b[43mresult\u001b[49m\u001b[43m[\u001b[49m\u001b[43mi\u001b[49m\u001b[43m]\u001b[49m[j] \u001b[38;5;241m=\u001b[39m matrix1[i][j] \u001b[38;5;241m+\u001b[39m matrix2[i][j]\n\u001b[1;32m     24\u001b[0m         \u001b[38;5;28mprint\u001b[39m(\u001b[38;5;124mf\u001b[39m\u001b[38;5;124m\"\u001b[39m\u001b[38;5;124mSum of elements at (\u001b[39m\u001b[38;5;132;01m{\u001b[39;00mi\u001b[38;5;132;01m}\u001b[39;00m\u001b[38;5;124m, \u001b[39m\u001b[38;5;132;01m{\u001b[39;00mj\u001b[38;5;132;01m}\u001b[39;00m\u001b[38;5;124m): \u001b[39m\u001b[38;5;132;01m{\u001b[39;00mresult\u001b[38;5;132;01m}\u001b[39;00m\u001b[38;5;124m\"\u001b[39m)\n\u001b[1;32m     25\u001b[0m \u001b[38;5;28;01mreturn\u001b[39;00m result\n",
      "\u001b[0;31mIndexError\u001b[0m: list index out of range"
     ]
    }
   ],
   "source": [
    "# Write your own add digit arrays\n",
    "# [1,1,2] + [1,2,1] -> [2, 3,3]\n",
    "# [1,2] + [1,0] -> [2,2]\n",
    "\n",
    "#def add_arr(arr1, arr2):\n",
    "#    arr1.reverse()\n",
    "#    arr2.reverse()\n",
    "#    res=[]\n",
    "#    for i in arr1:\n",
    "#        for j in arr2:\n",
    "#            print(f\"i is {i}\")\n",
    "#            print(f\"j is {j}\")\n",
    "#            res[j]=i+j\n",
    "#            print(res[j])\n",
    "#    return res \n",
    "#add_arr([1,1,2],[1,2,4] )\n",
    "def add_matrices(matrix1, matrix2):\n",
    "    for i in range(len(matrix1)):\n",
    "        for j in range(len(matrix1[0])):\n",
    "            print(f\"Element at ({i}, {j}) in matrix1: {matrix1[i][j]}\")\n",
    "            print(f\"Element at ({i}, {j}) in matrix2: {matrix2[i][j]}\")\n",
    "            # Perform operations on the elements, e.g., addition, subtraction, etc.\n",
    "            result[i][j] = matrix1[i][j] + matrix2[i][j]\n",
    "            print(f\"Sum of elements at ({i}, {j}): {result}\")\n",
    "    return result\n",
    "\n",
    "matrix1 = [[1, 2, 3],\n",
    "               [4, 5, 6],\n",
    "               [7, 8, 9]]\n",
    "    \n",
    "matrix2 = [[10, 11, 12],\n",
    "       [13, 14, 15],\n",
    "       [16, 17, 18]]\n",
    "result=[]\n",
    "result= add_matrices(matrix1,matrix2)\n",
    "for i in range(len(result)):\n",
    "        for j in range(len(matrix2[0])):\n",
    "            print(f\"Elements of result at ({i}, {j}): {result[i][j]}\")"
   ]
  },
  {
   "cell_type": "code",
   "execution_count": 9,
   "id": "117b4be4-1c5b-447b-9f24-95eedb06e8d7",
   "metadata": {},
   "outputs": [
    {
     "ename": "IndentationError",
     "evalue": "unindent does not match any outer indentation level (<string>, line 5)",
     "output_type": "error",
     "traceback": [
      "\u001b[0;36m  File \u001b[0;32m<string>:5\u001b[0;36m\u001b[0m\n\u001b[0;31m    for i in range(len(matrix1)):\u001b[0m\n\u001b[0m                                 ^\u001b[0m\n\u001b[0;31mIndentationError\u001b[0m\u001b[0;31m:\u001b[0m unindent does not match any outer indentation level\n"
     ]
    }
   ],
   "source": []
  },
  {
   "cell_type": "code",
   "execution_count": 6,
   "id": "eeec2560-21a9-45e7-8c74-7191faabe7e1",
   "metadata": {},
   "outputs": [],
   "source": [
    "   result=[[0, 0,0], \n",
    "                      [0,0,0],\n",
    "                      [0,0,0]]\n"
   ]
  },
  {
   "cell_type": "code",
   "execution_count": 7,
   "id": "7af153d7-26c5-442a-bfde-d9bae7b43792",
   "metadata": {},
   "outputs": [
    {
     "data": {
      "text/plain": [
       "[[0, 0, 0], [0, 0, 0], [0, 0, 0]]"
      ]
     },
     "execution_count": 7,
     "metadata": {},
     "output_type": "execute_result"
    }
   ],
   "source": [
    "result"
   ]
  },
  {
   "cell_type": "code",
   "execution_count": 12,
   "id": "a38ce59a-08cc-4729-a974-39f4c666b699",
   "metadata": {},
   "outputs": [
    {
     "name": "stdout",
     "output_type": "stream",
     "text": [
      "Element at (0, 0) in matrix1: 1\n",
      "Element at (0, 0) in matrix2: 10\n",
      "Sum of elements at (0, 0): [[11, 0, 0], [0, 0, 0], [0, 0, 0]]\n",
      "Element at (0, 1) in matrix1: 2\n",
      "Element at (0, 1) in matrix2: 11\n",
      "Sum of elements at (0, 1): [[11, 13, 0], [0, 0, 0], [0, 0, 0]]\n",
      "Element at (0, 2) in matrix1: 3\n",
      "Element at (0, 2) in matrix2: 12\n",
      "Sum of elements at (0, 2): [[11, 13, 15], [0, 0, 0], [0, 0, 0]]\n",
      "Element at (1, 0) in matrix1: 4\n",
      "Element at (1, 0) in matrix2: 13\n",
      "Sum of elements at (1, 0): [[11, 13, 15], [17, 0, 0], [0, 0, 0]]\n",
      "Element at (1, 1) in matrix1: 5\n",
      "Element at (1, 1) in matrix2: 14\n",
      "Sum of elements at (1, 1): [[11, 13, 15], [17, 19, 0], [0, 0, 0]]\n",
      "Element at (1, 2) in matrix1: 6\n",
      "Element at (1, 2) in matrix2: 15\n",
      "Sum of elements at (1, 2): [[11, 13, 15], [17, 19, 21], [0, 0, 0]]\n",
      "Element at (2, 0) in matrix1: 7\n",
      "Element at (2, 0) in matrix2: 16\n",
      "Sum of elements at (2, 0): [[11, 13, 15], [17, 19, 21], [23, 0, 0]]\n",
      "Element at (2, 1) in matrix1: 8\n",
      "Element at (2, 1) in matrix2: 17\n",
      "Sum of elements at (2, 1): [[11, 13, 15], [17, 19, 21], [23, 25, 0]]\n",
      "Element at (2, 2) in matrix1: 9\n",
      "Element at (2, 2) in matrix2: 18\n",
      "Sum of elements at (2, 2): [[11, 13, 15], [17, 19, 21], [23, 25, 27]]\n",
      "Elements of result at (0, 0): 11\n",
      "Elements of result at (0, 1): 13\n",
      "Elements of result at (0, 2): 15\n",
      "Elements of result at (1, 0): 17\n",
      "Elements of result at (1, 1): 19\n",
      "Elements of result at (1, 2): 21\n",
      "Elements of result at (2, 0): 23\n",
      "Elements of result at (2, 1): 25\n",
      "Elements of result at (2, 2): 27\n"
     ]
    }
   ],
   "source": [
    "def add_matrices(matrix1, matrix2):\n",
    "    result=[[0, 0,0], \n",
    "              [0,0,0],\n",
    "              [0,0,0]]\n",
    "    for i in range(len(matrix1)):\n",
    "        for j in range(len(matrix1[0])):\n",
    "            print(f\"Element at ({i}, {j}) in matrix1: {matrix1[i][j]}\")\n",
    "            print(f\"Element at ({i}, {j}) in matrix2: {matrix2[i][j]}\")\n",
    "            # Perform operations on the elements, e.g., addition, subtraction, etc.\n",
    "       \n",
    "            result[i][j] = matrix1[i][j] + matrix2[i][j]\n",
    "            print(f\"Sum of elements at ({i}, {j}): {result}\")\n",
    "    return result\n",
    "\n",
    "matrix1 = [[1, 2, 3],\n",
    "               [4, 5, 6],\n",
    "               [7, 8, 9]]\n",
    "    \n",
    "matrix2 = [[10, 11, 12],\n",
    "       [13, 14, 15],\n",
    "       [16, 17, 18]]\n",
    "result=[[0, 0,0], \n",
    "                      [0,0,0],\n",
    "                      [0,0,0]]\n",
    "result=add_matrices(matrix1,matrix2)\n",
    "for i in range(len(result)):\n",
    "        for j in range(len(matrix2[0])):\n",
    "            print(f\"Elements of result at ({i}, {j}): {result[i][j]}\")\n",
    "           \n",
    " "
   ]
  },
  {
   "cell_type": "code",
   "execution_count": 13,
   "id": "b677fd1f-fb86-4210-beea-37dabdc663f4",
   "metadata": {},
   "outputs": [
    {
     "data": {
      "text/plain": [
       "[[11, 13, 15], [17, 19, 21], [23, 25, 27]]"
      ]
     },
     "execution_count": 13,
     "metadata": {},
     "output_type": "execute_result"
    }
   ],
   "source": [
    "result"
   ]
  },
  {
   "cell_type": "code",
   "execution_count": null,
   "id": "4a0fba4a-2155-46e2-b64f-4b2bc42291a1",
   "metadata": {},
   "outputs": [],
   "source": []
  }
 ],
 "metadata": {
  "kernelspec": {
   "display_name": "Python 3 (ipykernel)",
   "language": "python",
   "name": "python3"
  },
  "language_info": {
   "codemirror_mode": {
    "name": "ipython",
    "version": 3
   },
   "file_extension": ".py",
   "mimetype": "text/x-python",
   "name": "python",
   "nbconvert_exporter": "python",
   "pygments_lexer": "ipython3",
   "version": "3.12.3"
  }
 },
 "nbformat": 4,
 "nbformat_minor": 5
}
