{
 "cells": [
  {
   "cell_type": "code",
   "execution_count": 1,
   "id": "662dc753-9cf8-4b30-8732-0529b025a7a3",
   "metadata": {},
   "outputs": [
    {
     "name": "stdout",
     "output_type": "stream",
     "text": [
      "Element at (0, 0) in matrix1: 1\n",
      "Element at (0, 0) in matrix2: 10\n",
      "Sum of elements at (0, 0): [[11, 0, 0], [0, 0, 0], [0, 0, 0]]\n",
      "Element at (0, 1) in matrix1: 2\n",
      "Element at (0, 1) in matrix2: 11\n",
      "Sum of elements at (0, 1): [[11, 13, 0], [0, 0, 0], [0, 0, 0]]\n",
      "Element at (0, 2) in matrix1: 3\n",
      "Element at (0, 2) in matrix2: 12\n",
      "Sum of elements at (0, 2): [[11, 13, 15], [0, 0, 0], [0, 0, 0]]\n",
      "Element at (1, 0) in matrix1: 4\n",
      "Element at (1, 0) in matrix2: 13\n",
      "Sum of elements at (1, 0): [[11, 13, 15], [17, 0, 0], [0, 0, 0]]\n",
      "Element at (1, 1) in matrix1: 5\n",
      "Element at (1, 1) in matrix2: 14\n",
      "Sum of elements at (1, 1): [[11, 13, 15], [17, 19, 0], [0, 0, 0]]\n",
      "Element at (1, 2) in matrix1: 6\n",
      "Element at (1, 2) in matrix2: 15\n",
      "Sum of elements at (1, 2): [[11, 13, 15], [17, 19, 21], [0, 0, 0]]\n",
      "Element at (2, 0) in matrix1: 7\n",
      "Element at (2, 0) in matrix2: 16\n",
      "Sum of elements at (2, 0): [[11, 13, 15], [17, 19, 21], [23, 0, 0]]\n",
      "Element at (2, 1) in matrix1: 8\n",
      "Element at (2, 1) in matrix2: 17\n",
      "Sum of elements at (2, 1): [[11, 13, 15], [17, 19, 21], [23, 25, 0]]\n",
      "Element at (2, 2) in matrix1: 9\n",
      "Element at (2, 2) in matrix2: 18\n",
      "Sum of elements at (2, 2): [[11, 13, 15], [17, 19, 21], [23, 25, 27]]\n",
      "Elements of result at (0, 0): 11\n",
      "Elements of result at (0, 1): 13\n",
      "Elements of result at (0, 2): 15\n",
      "Elements of result at (1, 0): 17\n",
      "Elements of result at (1, 1): 19\n",
      "Elements of result at (1, 2): 21\n",
      "Elements of result at (2, 0): 23\n",
      "Elements of result at (2, 1): 25\n",
      "Elements of result at (2, 2): 27\n"
     ]
    }
   ],
   "source": [
    "def add_matrices(matrix1, matrix2):\n",
    "    result=[[0, 0,0], \n",
    "              [0,0,0],\n",
    "              [0,0,0]]\n",
    "    for i in range(len(matrix1)):\n",
    "        for j in range(len(matrix1[0])):\n",
    "            print(f\"Element at ({i}, {j}) in matrix1: {matrix1[i][j]}\")\n",
    "            print(f\"Element at ({i}, {j}) in matrix2: {matrix2[i][j]}\")\n",
    "            # Perform operations on the elements, e.g., addition, subtraction, etc.\n",
    "       \n",
    "            result[i][j] = matrix1[i][j] + matrix2[i][j]\n",
    "            print(f\"Sum of elements at ({i}, {j}): {result}\")\n",
    "    return result\n",
    "\n",
    "matrix1 = [[1, 2, 3],\n",
    "               [4, 5, 6],\n",
    "               [7, 8, 9]]\n",
    "    \n",
    "matrix2 = [[10, 11, 12],\n",
    "       [13, 14, 15],\n",
    "       [16, 17, 18]]\n",
    "result=[[0, 0,0], \n",
    "                      [0,0,0],\n",
    "                      [0,0,0]]\n",
    "result=add_matrices(matrix1,matrix2)\n",
    "for i in range(len(result)):\n",
    "        for j in range(len(matrix2[0])):\n",
    "            print(f\"Elements of result at ({i}, {j}): {result[i][j]}\")"
   ]
  },
  {
   "cell_type": "code",
   "execution_count": null,
   "id": "85c1da2d-793d-42fe-98df-308967edc596",
   "metadata": {},
   "outputs": [],
   "source": []
  }
 ],
 "metadata": {
  "kernelspec": {
   "display_name": "Python 3 (ipykernel)",
   "language": "python",
   "name": "python3"
  },
  "language_info": {
   "codemirror_mode": {
    "name": "ipython",
    "version": 3
   },
   "file_extension": ".py",
   "mimetype": "text/x-python",
   "name": "python",
   "nbconvert_exporter": "python",
   "pygments_lexer": "ipython3",
   "version": "3.12.3"
  }
 },
 "nbformat": 4,
 "nbformat_minor": 5
}
