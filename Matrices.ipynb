{
 "cells": [
  {
   "cell_type": "code",
   "execution_count": 4,
   "id": "662dc753-9cf8-4b30-8732-0529b025a7a3",
   "metadata": {},
   "outputs": [
    {
     "name": "stdout",
     "output_type": "stream",
     "text": [
      "[[11, 13, 15]]\n"
     ]
    }
   ],
   "source": [
    "# Write addition of matrices\n",
    "def add_matrices(matrix1, matrix2):\n",
    "    for i in range(len(matrix1)):\n",
    "        for j in range(len(matrix1[0])):\n",
    "            #print(f\"Element at ({i}, {j}) in matrix1: {matrix1[i][j]}\")\n",
    "            #print(f\"Element at ({i}, {j}) in matrix2: {matrix2[i][j]}\")\n",
    "            # Perform operations on the elements, e.g., addition, subtraction, etc.\n",
    "       \n",
    "            result[i][j] = matrix1[i][j] + matrix2[i][j]\n",
    "            #print(f\"Sum of elements at ({i}, {j}): {result}\")\n",
    "    return result\n",
    "\n",
    "# matrix1 = [[1, 2, 3],\n",
    "#               [4, 5, 6],\n",
    "#              [7, 8, 9]]\n",
    "    \n",
    "# matrix2 = [[10, 11, 12],\n",
    "#       [13, 14, 15],\n",
    "#       [16, 17, 18]]\n",
    "matrix1 = [[1, 2, 3]]\n",
    "    \n",
    "matrix2 = [[10, 11, 12]]\n",
    "result=[[0, 0,0]]\n",
    "result=add_matrices(matrix1,matrix2)\n",
    "#for i in range(len(result)):\n",
    "#        for j in range(len(matrix2[0])):\n",
    "#            print(f\"Elements of result at ({i}, {j}): {result[i][j]}\")\n",
    "print(result)"
   ]
  },
  {
   "cell_type": "code",
   "execution_count": 8,
   "id": "85c1da2d-793d-42fe-98df-308967edc596",
   "metadata": {},
   "outputs": [
    {
     "name": "stdout",
     "output_type": "stream",
     "text": [
      "[2, 3, 3]\n",
      "[2, 2]\n",
      "[3, 1]\n",
      "[2, 1, 0]\n"
     ]
    }
   ],
   "source": [
    "#def matrixmultiply(matrix1, matrix2):\n",
    "# Write your own add digit arrays\n",
    "def add_digit_arrays(arr1, arr2):\n",
    "    # Ensure arr1 is the longer array\n",
    "    if len(arr2) > len(arr1):\n",
    "        arr1, arr2 = arr2, arr1\n",
    "    \n",
    "    # Reverse arrays to start addition from the least significant digit\n",
    "    arr1 = arr1[::-1]\n",
    "    arr2 = arr2[::-1]\n",
    "    \n",
    "    carry = 0\n",
    "    result = []\n",
    "    \n",
    "    for i in range(len(arr1)):\n",
    "        digit1 = arr1[i]\n",
    "        digit2 = 0\n",
    "        if i < len(arr2):\n",
    "            digit2 = arr2[i]\n",
    "        \n",
    "        total = digit1 + digit2 + carry\n",
    "        carry = total // 10\n",
    "        result.append(total % 10)\n",
    "    \n",
    "    # If there's a carry left after the last addition\n",
    "    if carry:\n",
    "        result.append(carry)\n",
    "    \n",
    "    # Reverse the result to get the final sum\n",
    "    return result[::-1]\n",
    "\n",
    "# Examples\n",
    "print(add_digit_arrays([1, 1, 2], [1, 2, 1]))  # Output: [2, 3, 3]\n",
    "print(add_digit_arrays([1, 2], [1, 0]))        # Output: [2, 2]\n",
    "print(add_digit_arrays([1,2] , [1,9]))        # Output: [2, 2] [1,2] + [1,9] -> [3,1]\n",
    "print(add_digit_arrays([1,2] , [1,9,8]))        # Output: [2, 2] [1,2] + [1,9] -> [3,1]\n"
   ]
  },
  {
   "cell_type": "code",
   "execution_count": null,
   "id": "38392c25-d90a-467b-8b8a-f93a5f7d8983",
   "metadata": {},
   "outputs": [],
   "source": []
  }
 ],
 "metadata": {
  "kernelspec": {
   "display_name": "Python 3 (ipykernel)",
   "language": "python",
   "name": "python3"
  },
  "language_info": {
   "codemirror_mode": {
    "name": "ipython",
    "version": 3
   },
   "file_extension": ".py",
   "mimetype": "text/x-python",
   "name": "python",
   "nbconvert_exporter": "python",
   "pygments_lexer": "ipython3",
   "version": "3.12.3"
  }
 },
 "nbformat": 4,
 "nbformat_minor": 5
}
