{
 "cells": [
  {
   "cell_type": "code",
   "execution_count": 4,
   "id": "662dc753-9cf8-4b30-8732-0529b025a7a3",
   "metadata": {},
   "outputs": [
    {
     "name": "stdout",
     "output_type": "stream",
     "text": [
      "[[11, 13, 15]]\n"
     ]
    }
   ],
   "source": [
    "# Write addition of matrices\n",
    "def add_matrices(matrix1, matrix2):\n",
    "    for i in range(len(matrix1)):\n",
    "        for j in range(len(matrix1[0])):\n",
    "            #print(f\"Element at ({i}, {j}) in matrix1: {matrix1[i][j]}\")\n",
    "            #print(f\"Element at ({i}, {j}) in matrix2: {matrix2[i][j]}\")\n",
    "            # Perform operations on the elements, e.g., addition, subtraction, etc.\n",
    "       \n",
    "            result[i][j] = matrix1[i][j] + matrix2[i][j]\n",
    "            #print(f\"Sum of elements at ({i}, {j}): {result}\")\n",
    "    return result\n",
    "\n",
    "# matrix1 = [[1, 2, 3],\n",
    "#               [4, 5, 6],\n",
    "#              [7, 8, 9]]\n",
    "    \n",
    "# matrix2 = [[10, 11, 12],\n",
    "#       [13, 14, 15],\n",
    "#       [16, 17, 18]]\n",
    "matrix1 = [[1, 2, 3]]\n",
    "    \n",
    "matrix2 = [[10, 11, 12]]\n",
    "result=[[0, 0,0]]\n",
    "result=add_matrices(matrix1,matrix2)\n",
    "#for i in range(len(result)):\n",
    "#        for j in range(len(matrix2[0])):\n",
    "#            print(f\"Elements of result at ({i}, {j}): {result[i][j]}\")\n",
    "print(result)"
   ]
  },
  {
   "cell_type": "code",
   "execution_count": 25,
   "id": "85c1da2d-793d-42fe-98df-308967edc596",
   "metadata": {},
   "outputs": [
    {
     "name": "stdout",
     "output_type": "stream",
     "text": [
      "i=0\n",
      "total: 11\n",
      "carry: 1\n",
      "result: [1]\n",
      "i=1\n",
      "total: 3\n",
      "carry: 0\n",
      "result: [1, 3]\n",
      "[3, 1]\n"
     ]
    }
   ],
   "source": [
    "#def matrixmultiply(matrix1, matrix2):\n",
    "# Write your own add digit arrays\n",
    "def add_digit_arrays(arr1, arr2):\n",
    "    # Ensure arr1 is the longer array\n",
    "    if len(arr2) > len(arr1):\n",
    "        arr1, arr2 = arr2, arr1\n",
    "    \n",
    "    # Reverse arrays to start addition from the least significant digit\n",
    "    arr1 = arr1[::-1]\n",
    "    arr2 = arr2[::-1]\n",
    "    \n",
    "    carry = 0\n",
    "    result = []\n",
    "    \n",
    "    for i in range(len(arr1)):\n",
    "        digit1 = arr1[i]\n",
    "        digit2 = 0\n",
    "        print(f\"i={i}\")\n",
    "        if i < len(arr2):\n",
    "            digit2 = arr2[i]\n",
    "        \n",
    "        total = digit1 + digit2 + carry\n",
    "        carry = total // 10           # 26 // 10 = 2 , 19 // 10 =1 , 16 // 10 = 1\n",
    "        print(f\"total: {total}\")\n",
    "        print(f\"carry: {carry}\")\n",
    "        result.append(total % 10)     # 26 % 10 = 2 , 19 % 10 = 9 , 16 % 10 =6\n",
    "        print(f\"result: {result}\")\n",
    "       \n",
    "    # If there's a carry left after the last addition\n",
    "    if carry:\n",
    "        result.append(carry)\n",
    "    \n",
    "    # Reverse the result to get the final sum\n",
    "    return result[::-1]\n",
    "\n",
    "# Examples\n",
    "print(add_digit_arrays([1,2] , [1,9]))        #output: [3, 1]\n",
    "print(add_digit_arrays([1, 2], [1, 0]))        # Output: [2, 2]\n",
    "print(add_digit_arrays([1,2] , [1,9]))        # Output:  [1,2] + [1,9] -> [3,1]\n",
    "print(add_digit_arrays([1,2] , [1,9,8]))        # Output: [1,2] + [1,9] -> [2,1,0]\n",
    "print(add_digit_arrays([1,2] , [8]))      # Output: [1, 2]  + [8] -> [2,0]\n",
    "print(add_digit_arrays([1,2] , [8,9]))        # Output: [2, 2] [1,2] + [1,9] -> [3,1]\n",
    "print(add_digit_arrays([1, 1, 2], [1, 2, 1]))  # Output: [2, 3, 3]"
   ]
  },
  {
   "cell_type": "code",
   "execution_count": 8,
   "id": "38392c25-d90a-467b-8b8a-f93a5f7d8983",
   "metadata": {},
   "outputs": [
    {
     "data": {
      "text/plain": [
       "1"
      ]
     },
     "execution_count": 8,
     "metadata": {},
     "output_type": "execute_result"
    }
   ],
   "source": [
    "carry = 16 // 10\n",
    "carry"
   ]
  },
  {
   "cell_type": "code",
   "execution_count": 5,
   "id": "de5e1697-a6af-4450-a7a7-da8513552f6b",
   "metadata": {},
   "outputs": [
    {
     "data": {
      "text/plain": [
       "6"
      ]
     },
     "execution_count": 5,
     "metadata": {},
     "output_type": "execute_result"
    }
   ],
   "source": [
    "if carry:\n",
    "    carry = 16 % 10\n",
    "carry"
   ]
  },
  {
   "cell_type": "code",
   "execution_count": 10,
   "id": "13bde76c-2e61-4a84-ba77-f2034ef5fb78",
   "metadata": {},
   "outputs": [
    {
     "data": {
      "text/plain": [
       "[1, 2]"
      ]
     },
     "execution_count": 10,
     "metadata": {},
     "output_type": "execute_result"
    }
   ],
   "source": [
    "arr1 = [1, 2]\n",
    "arr1"
   ]
  },
  {
   "cell_type": "code",
   "execution_count": 11,
   "id": "0c3aa00c-12cb-41a0-b96a-a08d5d44675d",
   "metadata": {},
   "outputs": [
    {
     "data": {
      "text/plain": [
       "[2, 1]"
      ]
     },
     "execution_count": 11,
     "metadata": {},
     "output_type": "execute_result"
    }
   ],
   "source": [
    "arr1 = arr1[::-1]\n",
    "arr1 "
   ]
  },
  {
   "cell_type": "code",
   "execution_count": 12,
   "id": "de1ed0f8-8c17-40a9-8cfc-7d69eb3fdd42",
   "metadata": {},
   "outputs": [
    {
     "data": {
      "text/plain": [
       "[8]"
      ]
     },
     "execution_count": 12,
     "metadata": {},
     "output_type": "execute_result"
    }
   ],
   "source": [
    "arr2 =[8]\n",
    "arr2 = arr2[::-1]\n",
    "arr2 "
   ]
  },
  {
   "cell_type": "code",
   "execution_count": 13,
   "id": "aa99e1f2-d6b8-4d60-ba0d-8d6d976e2d11",
   "metadata": {},
   "outputs": [
    {
     "data": {
      "text/plain": [
       "[2, 1, 8]"
      ]
     },
     "execution_count": 13,
     "metadata": {},
     "output_type": "execute_result"
    }
   ],
   "source": [
    "28"
   ]
  },
  {
   "cell_type": "code",
   "execution_count": 14,
   "id": "ca27a090-84b3-4843-87e8-276f0b77772a",
   "metadata": {},
   "outputs": [
    {
     "data": {
      "text/plain": [
       "1"
      ]
     },
     "execution_count": 14,
     "metadata": {},
     "output_type": "execute_result"
    }
   ],
   "source": [
    "carry = 10 // 10\n",
    "carry"
   ]
  },
  {
   "cell_type": "code",
   "execution_count": 15,
   "id": "7e4e8f73-f672-4d46-b094-d83edf2a655a",
   "metadata": {},
   "outputs": [
    {
     "data": {
      "text/plain": [
       "0"
      ]
     },
     "execution_count": 15,
     "metadata": {},
     "output_type": "execute_result"
    }
   ],
   "source": [
    "carry = 10 % 10\n",
    "carry"
   ]
  },
  {
   "cell_type": "code",
   "execution_count": 1,
   "id": "604336f9-96b8-41e5-8db0-8a34e6f772be",
   "metadata": {},
   "outputs": [
    {
     "data": {
      "text/plain": [
       "'ban ana'"
      ]
     },
     "execution_count": 1,
     "metadata": {},
     "output_type": "execute_result"
    }
   ],
   "source": [
    "str.strip(' ban ana ')"
   ]
  },
  {
   "cell_type": "code",
   "execution_count": 2,
   "id": "d66feeef-108d-490f-b635-014dd75dc74e",
   "metadata": {},
   "outputs": [
    {
     "data": {
      "text/plain": [
       "'ban ana '"
      ]
     },
     "execution_count": 2,
     "metadata": {},
     "output_type": "execute_result"
    }
   ],
   "source": [
    "str.lstrip(' ban ana ')"
   ]
  },
  {
   "cell_type": "code",
   "execution_count": 6,
   "id": "ab3a6d80-7c4e-4358-9a6c-e7c2e8def203",
   "metadata": {},
   "outputs": [
    {
     "data": {
      "text/plain": [
       "'**banana**'"
      ]
     },
     "execution_count": 6,
     "metadata": {},
     "output_type": "execute_result"
    }
   ],
   "source": [
    "str.center('banana',10,\"*\")\n"
   ]
  },
  {
   "cell_type": "raw",
   "id": "2fbf153c-6690-4f44-b878-b5f1d5debc68",
   "metadata": {},
   "source": [
    "str.find("
   ]
  }
 ],
 "metadata": {
  "kernelspec": {
   "display_name": "Python 3 (ipykernel)",
   "language": "python",
   "name": "python3"
  },
  "language_info": {
   "codemirror_mode": {
    "name": "ipython",
    "version": 3
   },
   "file_extension": ".py",
   "mimetype": "text/x-python",
   "name": "python",
   "nbconvert_exporter": "python",
   "pygments_lexer": "ipython3",
   "version": "3.12.3"
  }
 },
 "nbformat": 4,
 "nbformat_minor": 5
}
