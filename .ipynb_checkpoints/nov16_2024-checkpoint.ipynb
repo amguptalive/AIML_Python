{
 "cells": [
  {
   "cell_type": "code",
   "execution_count": 1,
   "metadata": {},
   "outputs": [],
   "source": [
    "import matplotlib.pyplot as plt"
   ]
  },
  {
   "cell_type": "code",
   "execution_count": 2,
   "metadata": {},
   "outputs": [
    {
     "data": {
      "text/plain": [
       "<matplotlib.image.AxesImage at 0x7fa5d82bbc50>"
      ]
     },
     "execution_count": 2,
     "metadata": {},
     "output_type": "execute_result"
    },
    {
     "data": {
      "image/png": "[encoded data removed]",
      "text/plain": [
       "<Figure size 432x288 with 1 Axes>"
      ]
     },
     "metadata": {
      "needs_background": "light"
     },
     "output_type": "display_data"
    }
   ],
   "source": [
    "plt.imshow([[1,1],[0, 0]])"
   ]
  },
  {
   "cell_type": "code",
   "execution_count": 5,
   "metadata": {},
   "outputs": [
    {
     "data": {
      "text/plain": [
       "<matplotlib.image.AxesImage at 0x7fa5976ac0b8>"
      ]
     },
     "execution_count": 5,
     "metadata": {},
     "output_type": "execute_result"
    },
    {
     "data": {
      "image/png": "[encoded data removed]",
      "text/plain": [
       "<Figure size 432x288 with 1 Axes>"
      ]
     },
     "metadata": {
      "needs_background": "light"
     },
     "output_type": "display_data"
    }
   ],
   "source": [
    "img = [\n",
    "    [0, 0, 1, 1, 0, 0],\n",
    "    [0, 0, 1, 1, 0, 0],\n",
    "    [1, 1, 1, 1, 1, 1],\n",
    "    [1, 1, 1, 1, 1, 1],\n",
    "    [0, 0, 1, 1, 0, 0],\n",
    "    [0, 0, 1, 1, 0, 0],\n",
    "]\n",
    "plt.imshow(img)"
   ]
  },
  {
   "cell_type": "code",
   "execution_count": 6,
   "metadata": {},
   "outputs": [],
   "source": [
    "# 6x6 -> 12, 12"
   ]
  },
  {
   "cell_type": "code",
   "execution_count": 11,
   "metadata": {},
   "outputs": [
    {
     "data": {
      "text/plain": [
       "<matplotlib.image.AxesImage at 0x7fa59737f4a8>"
      ]
     },
     "execution_count": 11,
     "metadata": {},
     "output_type": "execute_result"
    },
    {
     "data": {
      "image/png": "[encoded data removed]",
      "text/plain": [
       "<Figure size 432x288 with 1 Axes>"
      ]
     },
     "metadata": {
      "needs_background": "light"
     },
     "output_type": "display_data"
    }
   ],
   "source": [
    "plt.imshow([[1,64],[128, 255]], cmap='gray')"
   ]
  },
  {
   "cell_type": "markdown",
   "metadata": {},
   "source": [
    "Q1: Zoom an image (2d python list) to double length and double width\n",
    "    - clone one pixel to all four\n",
    "    - LERP - linear interpolation\n",
    "Q2: Zoom an image (2D python list) to half size\n",
    "    - average\n",
    "    - min\n",
    "    - max\n",
    "    - See and compare the output\n",
    "Q3: Come up with your own strategy to make these images look good."
   ]
  },
  {
   "cell_type": "code",
   "execution_count": 14,
   "metadata": {},
   "outputs": [
    {
     "data": {
      "text/plain": [
       "112.0"
      ]
     },
     "execution_count": 14,
     "metadata": {},
     "output_type": "execute_result"
    }
   ],
   "source": [
    "[[1,64],[128, 255]] -> [112.0] --> [[112,112], [112, 112]]"
   ]
  },
  {
   "cell_type": "code",
   "execution_count": 16,
   "metadata": {},
   "outputs": [
    {
     "data": {
      "text/plain": [
       "<matplotlib.image.AxesImage at 0x7fa5972bacc0>"
      ]
     },
     "execution_count": 16,
     "metadata": {},
     "output_type": "execute_result"
    },
    {
     "data": {
      "image/png": "[encoded data removed]",
      "text/plain": [
       "<Figure size 432x288 with 1 Axes>"
      ]
     },
     "metadata": {
      "needs_background": "light"
     },
     "output_type": "display_data"
    }
   ],
   "source": [
    "plt.imshow([[112,112], [112, 112]],cmap='gray')"
   ]
  },
  {
   "cell_type": "code",
   "execution_count": 17,
   "metadata": {},
   "outputs": [],
   "source": [
    "# Course: https://pjreddie.com/courses/computer-vision/"
   ]
  },
  {
   "cell_type": "code",
   "execution_count": 18,
   "metadata": {},
   "outputs": [],
   "source": [
    "# Raster and # Vector Images."
   ]
  },
  {
   "cell_type": "code",
   "execution_count": 20,
   "metadata": {},
   "outputs": [],
   "source": [
    "# CIrcle, Line..."
   ]
  },
  {
   "cell_type": "code",
   "execution_count": 21,
   "metadata": {},
   "outputs": [],
   "source": [
    "l = [\"Circle\", 12091, False, [2,3], print]"
   ]
  },
  {
   "cell_type": "code",
   "execution_count": 23,
   "metadata": {},
   "outputs": [
    {
     "name": "stdout",
     "output_type": "stream",
     "text": [
      "<class 'str'> Circle\n",
      "<class 'int'> 12091\n",
      "<class 'bool'> False\n",
      "<class 'list'> [2, 3]\n",
      "<class 'builtin_function_or_method'> <built-in function print>\n"
     ]
    }
   ],
   "source": [
    "for e in l:\n",
    "    print(type(e), e)"
   ]
  },
  {
   "cell_type": "code",
   "execution_count": 24,
   "metadata": {},
   "outputs": [
    {
     "data": {
      "text/plain": [
       "'Circle'"
      ]
     },
     "execution_count": 24,
     "metadata": {},
     "output_type": "execute_result"
    }
   ],
   "source": [
    "l[0]"
   ]
  },
  {
   "cell_type": "code",
   "execution_count": 25,
   "metadata": {},
   "outputs": [
    {
     "data": {
      "text/plain": [
       "12091"
      ]
     },
     "execution_count": 25,
     "metadata": {},
     "output_type": "execute_result"
    }
   ],
   "source": [
    "l[1]"
   ]
  },
  {
   "cell_type": "code",
   "execution_count": 42,
   "metadata": {},
   "outputs": [],
   "source": [
    "d = {\n",
    "    \"Name\": \"Sandeep\",\n",
    "    \"age\": 44,\n",
    "    \"City\": \"Torono\",\n",
    "    \"tasks\": [1,2,3,4],\n",
    "    \"works\": {'job': 'CloudxLab', 'Project': 'AI'}\n",
    "}"
   ]
  },
  {
   "cell_type": "code",
   "execution_count": 43,
   "metadata": {},
   "outputs": [],
   "source": [
    "import json\n"
   ]
  },
  {
   "cell_type": "code",
   "execution_count": 45,
   "metadata": {},
   "outputs": [],
   "source": [
    "txt  = json.dumps(d)\n",
    "with open('txt.json', 'w') as t:\n",
    "    t.write(txt)"
   ]
  },
  {
   "cell_type": "code",
   "execution_count": 46,
   "metadata": {},
   "outputs": [
    {
     "name": "stdout",
     "output_type": "stream",
     "text": [
      "Distance between 2 points.ipynb\t\t      nov3.ipynb\r\n",
      "img_Distance2points\t\t\t      nov6.ipynb\r\n",
      "mbox-short.txt\t\t\t\t      oct5_2024_classnotes.txt\r\n",
      "mbox.txt\t\t\t\t      oct 6.ipynb\r\n",
      "MultipleVariableEquationsSoln_Explained.xlsx  README.md\r\n",
      "MultipleVariableEquationsSoln.ipynb\t      resources.txt\r\n",
      "nov 10.ipynb\t\t\t\t      test_file.txt\r\n",
      "Nov 16.ipynb\t\t\t\t      txt.json\r\n",
      "Nov2.ipynb\t\t\t\t      Untitled.ipynb\r\n"
     ]
    }
   ],
   "source": [
    "!ls"
   ]
  },
  {
   "cell_type": "code",
   "execution_count": 47,
   "metadata": {},
   "outputs": [
    {
     "name": "stdout",
     "output_type": "stream",
     "text": [
      "{\"Name\": \"Sandeep\", \"age\": 44, \"City\": \"Torono\", \"tasks\": [1, 2, 3, 4], \"works\": {\"job\": \"CloudxLab\", \"Project\": \"AI\"}}"
     ]
    }
   ],
   "source": [
    "!cat txt.json"
   ]
  },
  {
   "cell_type": "code",
   "execution_count": 48,
   "metadata": {},
   "outputs": [
    {
     "name": "stdout",
     "output_type": "stream",
     "text": [
      "{\"Name\": \"Sandeep\", \"age\": 44, \"City\": \"Torono\", \"tasks\": [1, 2, 3, 4], \"works\": {\"job\": \"CloudxLab\", \"Project\": \"AI\"}}\n"
     ]
    }
   ],
   "source": [
    "with open('txt.json') as t:\n",
    "    txt1 = t.read()\n",
    "    print(txt1)"
   ]
  },
  {
   "cell_type": "code",
   "execution_count": 51,
   "metadata": {},
   "outputs": [],
   "source": [
    "d1 = json.loads(txt1)"
   ]
  },
  {
   "cell_type": "code",
   "execution_count": 54,
   "metadata": {},
   "outputs": [
    {
     "data": {
      "text/plain": [
       "dict"
      ]
     },
     "execution_count": 54,
     "metadata": {},
     "output_type": "execute_result"
    }
   ],
   "source": [
    "type(d1)"
   ]
  },
  {
   "cell_type": "code",
   "execution_count": 52,
   "metadata": {
    "scrolled": true
   },
   "outputs": [
    {
     "data": {
      "text/plain": [
       "{'Name': 'Sandeep',\n",
       " 'age': 44,\n",
       " 'City': 'Torono',\n",
       " 'tasks': [1, 2, 3, 4],\n",
       " 'works': {'job': 'CloudxLab', 'Project': 'AI'}}"
      ]
     },
     "execution_count": 52,
     "metadata": {},
     "output_type": "execute_result"
    }
   ],
   "source": [
    "d1"
   ]
  },
  {
   "cell_type": "code",
   "execution_count": 53,
   "metadata": {},
   "outputs": [
    {
     "data": {
      "text/plain": [
       "{'Name': 'Sandeep',\n",
       " 'age': 44,\n",
       " 'City': 'Torono',\n",
       " 'tasks': [1, 2, 3, 4],\n",
       " 'works': {'job': 'CloudxLab', 'Project': 'AI'}}"
      ]
     },
     "execution_count": 53,
     "metadata": {},
     "output_type": "execute_result"
    }
   ],
   "source": [
    "d"
   ]
  },
  {
   "cell_type": "code",
   "execution_count": 28,
   "metadata": {},
   "outputs": [
    {
     "data": {
      "text/plain": [
       "'Sandeep'"
      ]
     },
     "execution_count": 28,
     "metadata": {},
     "output_type": "execute_result"
    }
   ],
   "source": [
    "d['Name']"
   ]
  },
  {
   "cell_type": "code",
   "execution_count": 29,
   "metadata": {},
   "outputs": [
    {
     "data": {
      "text/plain": [
       "44"
      ]
     },
     "execution_count": 29,
     "metadata": {},
     "output_type": "execute_result"
    }
   ],
   "source": [
    "d['age']"
   ]
  },
  {
   "cell_type": "code",
   "execution_count": 32,
   "metadata": {},
   "outputs": [
    {
     "data": {
      "text/plain": [
       "[1, 2, 3, 4]"
      ]
     },
     "execution_count": 32,
     "metadata": {},
     "output_type": "execute_result"
    }
   ],
   "source": [
    "d['tasks']"
   ]
  },
  {
   "cell_type": "code",
   "execution_count": 36,
   "metadata": {},
   "outputs": [
    {
     "data": {
      "text/plain": [
       "'CloudxLab'"
      ]
     },
     "execution_count": 36,
     "metadata": {},
     "output_type": "execute_result"
    }
   ],
   "source": [
    "d['works']['job']`"
   ]
  },
  {
   "cell_type": "code",
   "execution_count": 37,
   "metadata": {},
   "outputs": [],
   "source": [
    "purse = dict() # {}"
   ]
  },
  {
   "cell_type": "code",
   "execution_count": 38,
   "metadata": {},
   "outputs": [],
   "source": [
    "purse['money'] = 12\n"
   ]
  },
  {
   "cell_type": "code",
   "execution_count": 39,
   "metadata": {},
   "outputs": [
    {
     "data": {
      "text/plain": [
       "{'money': 12}"
      ]
     },
     "execution_count": 39,
     "metadata": {},
     "output_type": "execute_result"
    }
   ],
   "source": [
    "purse"
   ]
  },
  {
   "cell_type": "code",
   "execution_count": 40,
   "metadata": {},
   "outputs": [],
   "source": [
    "del purse['money']"
   ]
  },
  {
   "cell_type": "code",
   "execution_count": 41,
   "metadata": {},
   "outputs": [
    {
     "data": {
      "text/plain": [
       "{}"
      ]
     },
     "execution_count": 41,
     "metadata": {},
     "output_type": "execute_result"
    }
   ],
   "source": [
    "purse"
   ]
  },
  {
   "cell_type": "code",
   "execution_count": 55,
   "metadata": {},
   "outputs": [
    {
     "data": {
      "text/plain": [
       "{'Name': 'Sandeep',\n",
       " 'age': 44,\n",
       " 'City': 'Torono',\n",
       " 'tasks': [1, 2, 3, 4],\n",
       " 'works': {'job': 'CloudxLab', 'Project': 'AI'}}"
      ]
     },
     "execution_count": 55,
     "metadata": {},
     "output_type": "execute_result"
    }
   ],
   "source": [
    "d1"
   ]
  },
  {
   "cell_type": "code",
   "execution_count": 58,
   "metadata": {},
   "outputs": [],
   "source": [
    "d1['height'] = '5ft 9inch'"
   ]
  },
  {
   "cell_type": "code",
   "execution_count": 59,
   "metadata": {},
   "outputs": [
    {
     "data": {
      "text/plain": [
       "'5ft 9inch'"
      ]
     },
     "execution_count": 59,
     "metadata": {},
     "output_type": "execute_result"
    }
   ],
   "source": [
    "d1['height'] "
   ]
  },
  {
   "cell_type": "code",
   "execution_count": 60,
   "metadata": {},
   "outputs": [
    {
     "data": {
      "text/plain": [
       "dict_keys(['Name', 'age', 'City', 'tasks', 'works', 'height'])"
      ]
     },
     "execution_count": 60,
     "metadata": {},
     "output_type": "execute_result"
    }
   ],
   "source": [
    "d1.keys()"
   ]
  },
  {
   "cell_type": "code",
   "execution_count": 61,
   "metadata": {},
   "outputs": [
    {
     "name": "stdout",
     "output_type": "stream",
     "text": [
      "key:  Name\n",
      "value:  Sandeep\n",
      "key:  age\n",
      "value:  44\n",
      "key:  City\n",
      "value:  Torono\n",
      "key:  tasks\n",
      "value:  [1, 2, 3, 4]\n",
      "key:  works\n",
      "value:  {'job': 'CloudxLab', 'Project': 'AI'}\n",
      "key:  height\n",
      "value:  5ft 9inch\n"
     ]
    }
   ],
   "source": [
    "for k, v in d1.items():\n",
    "    print(\"key: \", k)\n",
    "    print(\"value: \", v)"
   ]
  },
  {
   "cell_type": "code",
   "execution_count": 65,
   "metadata": {},
   "outputs": [],
   "source": [
    "d1[12] = 10"
   ]
  },
  {
   "cell_type": "code",
   "execution_count": 67,
   "metadata": {},
   "outputs": [],
   "source": [
    "d1[print] = 18"
   ]
  },
  {
   "cell_type": "code",
   "execution_count": 68,
   "metadata": {},
   "outputs": [
    {
     "name": "stdout",
     "output_type": "stream",
     "text": [
      "Name <class 'str'>\n",
      "age <class 'str'>\n",
      "City <class 'str'>\n",
      "tasks <class 'str'>\n",
      "works <class 'str'>\n",
      "height <class 'str'>\n",
      "12 <class 'int'>\n",
      "<built-in function print> <class 'builtin_function_or_method'>\n"
     ]
    }
   ],
   "source": [
    "for k in d1:\n",
    "    print(k, type(k))"
   ]
  },
  {
   "cell_type": "code",
   "execution_count": 74,
   "metadata": {},
   "outputs": [],
   "source": [
    "result = list(d1.keys())"
   ]
  },
  {
   "cell_type": "code",
   "execution_count": 75,
   "metadata": {},
   "outputs": [
    {
     "ename": "TypeError",
     "evalue": "'<' not supported between instances of 'int' and 'str'",
     "output_type": "error",
     "traceback": [
      "\u001b[0;31m---------------------------------------------------------------------------\u001b[0m",
      "\u001b[0;31mTypeError\u001b[0m                                 Traceback (most recent call last)",
      "\u001b[0;32m<ipython-input-75-5752bd75923c>\u001b[0m in \u001b[0;36m<module>\u001b[0;34m\u001b[0m\n\u001b[0;32m----> 1\u001b[0;31m \u001b[0mresult\u001b[0m\u001b[0;34m.\u001b[0m\u001b[0msort\u001b[0m\u001b[0;34m(\u001b[0m\u001b[0;34m)\u001b[0m\u001b[0;34m\u001b[0m\u001b[0;34m\u001b[0m\u001b[0m\n\u001b[0m",
      "\u001b[0;31mTypeError\u001b[0m: '<' not supported between instances of 'int' and 'str'"
     ]
    }
   ],
   "source": [
    "result.sort()"
   ]
  },
  {
   "cell_type": "code",
   "execution_count": 76,
   "metadata": {},
   "outputs": [],
   "source": [
    "l = [1, '2']"
   ]
  },
  {
   "cell_type": "code",
   "execution_count": 77,
   "metadata": {},
   "outputs": [
    {
     "ename": "TypeError",
     "evalue": "'<' not supported between instances of 'int' and 'str'",
     "output_type": "error",
     "traceback": [
      "\u001b[0;31m---------------------------------------------------------------------------\u001b[0m",
      "\u001b[0;31mTypeError\u001b[0m                                 Traceback (most recent call last)",
      "\u001b[0;32m<ipython-input-77-ee7753be6ea1>\u001b[0m in \u001b[0;36m<module>\u001b[0;34m\u001b[0m\n\u001b[0;32m----> 1\u001b[0;31m \u001b[0;36m1\u001b[0m \u001b[0;34m<\u001b[0m \u001b[0;34m'2'\u001b[0m\u001b[0;34m\u001b[0m\u001b[0;34m\u001b[0m\u001b[0m\n\u001b[0m",
      "\u001b[0;31mTypeError\u001b[0m: '<' not supported between instances of 'int' and 'str'"
     ]
    }
   ],
   "source": [
    "1 < '2'"
   ]
  },
  {
   "cell_type": "code",
   "execution_count": 78,
   "metadata": {},
   "outputs": [
    {
     "data": {
      "text/plain": [
       "{'Name': 'Sandeep',\n",
       " 'age': 44,\n",
       " 'City': 'Torono',\n",
       " 'tasks': [1, 2, 3, 4],\n",
       " 'works': {'job': 'CloudxLab', 'Project': 'AI'},\n",
       " 'height': '5ft 9inch',\n",
       " 12: 10,\n",
       " <function print>: 18}"
      ]
     },
     "execution_count": 78,
     "metadata": {},
     "output_type": "execute_result"
    }
   ],
   "source": [
    "d1"
   ]
  },
  {
   "cell_type": "code",
   "execution_count": 80,
   "metadata": {},
   "outputs": [],
   "source": [
    "del d1[12]"
   ]
  },
  {
   "cell_type": "code",
   "execution_count": 81,
   "metadata": {},
   "outputs": [
    {
     "data": {
      "text/plain": [
       "{'Name': 'Sandeep',\n",
       " 'age': 44,\n",
       " 'City': 'Torono',\n",
       " 'tasks': [1, 2, 3, 4],\n",
       " 'works': {'job': 'CloudxLab', 'Project': 'AI'},\n",
       " 'height': '5ft 9inch',\n",
       " <function print>: 18}"
      ]
     },
     "execution_count": 81,
     "metadata": {},
     "output_type": "execute_result"
    }
   ],
   "source": [
    "d1"
   ]
  },
  {
   "cell_type": "code",
   "execution_count": 84,
   "metadata": {},
   "outputs": [],
   "source": [
    "del d1[print]"
   ]
  },
  {
   "cell_type": "code",
   "execution_count": 85,
   "metadata": {},
   "outputs": [],
   "source": [
    "l = list(d1.keys())\n",
    "l.sort()"
   ]
  },
  {
   "cell_type": "code",
   "execution_count": 86,
   "metadata": {},
   "outputs": [
    {
     "data": {
      "text/plain": [
       "['City', 'Name', 'age', 'height', 'tasks', 'works']"
      ]
     },
     "execution_count": 86,
     "metadata": {},
     "output_type": "execute_result"
    }
   ],
   "source": [
    "l"
   ]
  },
  {
   "cell_type": "code",
   "execution_count": 87,
   "metadata": {},
   "outputs": [
    {
     "data": {
      "text/plain": [
       "{'Name': 'Sandeep',\n",
       " 'age': 44,\n",
       " 'City': 'Torono',\n",
       " 'tasks': [1, 2, 3, 4],\n",
       " 'works': {'job': 'CloudxLab', 'Project': 'AI'},\n",
       " 'height': '5ft 9inch'}"
      ]
     },
     "execution_count": 87,
     "metadata": {},
     "output_type": "execute_result"
    }
   ],
   "source": [
    "d1"
   ]
  },
  {
   "cell_type": "code",
   "execution_count": 89,
   "metadata": {},
   "outputs": [],
   "source": [
    "d1['tasks'].append(50)"
   ]
  },
  {
   "cell_type": "code",
   "execution_count": 90,
   "metadata": {},
   "outputs": [
    {
     "data": {
      "text/plain": [
       "{'Name': 'Sandeep',\n",
       " 'age': 44,\n",
       " 'City': 'Torono',\n",
       " 'tasks': [1, 2, 3, 4, 50],\n",
       " 'works': {'job': 'CloudxLab', 'Project': 'AI'},\n",
       " 'height': '5ft 9inch'}"
      ]
     },
     "execution_count": 90,
     "metadata": {},
     "output_type": "execute_result"
    }
   ],
   "source": [
    "d1"
   ]
  },
  {
   "cell_type": "code",
   "execution_count": 91,
   "metadata": {},
   "outputs": [
    {
     "data": {
      "text/plain": [
       "True"
      ]
     },
     "execution_count": 91,
     "metadata": {},
     "output_type": "execute_result"
    }
   ],
   "source": [
    "'Name' in d1"
   ]
  },
  {
   "cell_type": "code",
   "execution_count": 92,
   "metadata": {},
   "outputs": [
    {
     "data": {
      "text/plain": [
       "False"
      ]
     },
     "execution_count": 92,
     "metadata": {},
     "output_type": "execute_result"
    }
   ],
   "source": [
    "'Name1' in d1"
   ]
  },
  {
   "cell_type": "code",
   "execution_count": 93,
   "metadata": {},
   "outputs": [],
   "source": [
    "def check_an_update_tally(d, name):\n",
    "    if name in d:\n",
    "        d[name] += 1\n",
    "    else:\n",
    "        d[name] = 1"
   ]
  },
  {
   "cell_type": "code",
   "execution_count": 95,
   "metadata": {},
   "outputs": [
    {
     "data": {
      "text/plain": [
       "{'cwen': 1}"
      ]
     },
     "execution_count": 95,
     "metadata": {},
     "output_type": "execute_result"
    }
   ],
   "source": [
    "tally = {}\n",
    "check_an_update_tally(tally, \"cwen\")\n",
    "tally"
   ]
  },
  {
   "cell_type": "code",
   "execution_count": 96,
   "metadata": {},
   "outputs": [
    {
     "data": {
      "text/plain": [
       "{'cwen': 2}"
      ]
     },
     "execution_count": 96,
     "metadata": {},
     "output_type": "execute_result"
    }
   ],
   "source": [
    "check_an_update_tally(tally, \"cwen\")\n",
    "tally"
   ]
  },
  {
   "cell_type": "code",
   "execution_count": 97,
   "metadata": {},
   "outputs": [
    {
     "data": {
      "text/plain": [
       "{'cwen': 2, 'marquard': 1}"
      ]
     },
     "execution_count": 97,
     "metadata": {},
     "output_type": "execute_result"
    }
   ],
   "source": [
    "check_an_update_tally(tally, \"marquard\")\n",
    "tally"
   ]
  },
  {
   "cell_type": "code",
   "execution_count": 98,
   "metadata": {},
   "outputs": [],
   "source": [
    "names = [\"cwen\",\"cwen\",\"marquard\",\"zhen\",\"marquard\",\"zhen\",\"csev\",\"zhen\",\"csev\",\"marquard\",\"csev\",\"zhen\",\"zhen\"]"
   ]
  },
  {
   "cell_type": "code",
   "execution_count": 102,
   "metadata": {},
   "outputs": [],
   "source": [
    "tally = {}\n",
    "for name in names:\n",
    "    check_an_update_tally(tally, name)"
   ]
  },
  {
   "cell_type": "code",
   "execution_count": 103,
   "metadata": {},
   "outputs": [
    {
     "data": {
      "text/plain": [
       "{'cwen': 2, 'marquard': 3, 'zhen': 5, 'csev': 3}"
      ]
     },
     "execution_count": 103,
     "metadata": {},
     "output_type": "execute_result"
    }
   ],
   "source": [
    "tally"
   ]
  },
  {
   "cell_type": "code",
   "execution_count": 108,
   "metadata": {},
   "outputs": [],
   "source": [
    "most_popular_name = None\n",
    "best_counts = -1\n",
    "for item in tally.items():\n",
    "    name, counts = item\n",
    "    if counts > best_counts:\n",
    "        most_popular_name = name\n",
    "        best_counts = counts"
   ]
  },
  {
   "cell_type": "code",
   "execution_count": 109,
   "metadata": {},
   "outputs": [
    {
     "data": {
      "text/plain": [
       "'zhen'"
      ]
     },
     "execution_count": 109,
     "metadata": {},
     "output_type": "execute_result"
    }
   ],
   "source": [
    "most_popular_name"
   ]
  },
  {
   "cell_type": "code",
   "execution_count": 110,
   "metadata": {},
   "outputs": [
    {
     "data": {
      "text/plain": [
       "5"
      ]
     },
     "execution_count": 110,
     "metadata": {},
     "output_type": "execute_result"
    }
   ],
   "source": [
    "best_counts"
   ]
  },
  {
   "cell_type": "code",
   "execution_count": 115,
   "metadata": {},
   "outputs": [],
   "source": [
    "tup = (\"sandeep\", 10)\n",
    "name, value = tup"
   ]
  },
  {
   "cell_type": "code",
   "execution_count": 113,
   "metadata": {},
   "outputs": [
    {
     "data": {
      "text/plain": [
       "'sandeep'"
      ]
     },
     "execution_count": 113,
     "metadata": {},
     "output_type": "execute_result"
    }
   ],
   "source": [
    "name"
   ]
  },
  {
   "cell_type": "code",
   "execution_count": 116,
   "metadata": {},
   "outputs": [
    {
     "data": {
      "text/plain": [
       "{'Name': 'Sandeep',\n",
       " 'age': 44,\n",
       " 'City': 'Torono',\n",
       " 'tasks': [1, 2, 3, 4, 50],\n",
       " 'works': {'job': 'CloudxLab', 'Project': 'AI'},\n",
       " 'height': '5ft 9inch'}"
      ]
     },
     "execution_count": 116,
     "metadata": {},
     "output_type": "execute_result"
    }
   ],
   "source": [
    "d1"
   ]
  },
  {
   "cell_type": "code",
   "execution_count": 117,
   "metadata": {},
   "outputs": [],
   "source": [
    "d1['Name'] = 10"
   ]
  },
  {
   "cell_type": "code",
   "execution_count": 118,
   "metadata": {},
   "outputs": [
    {
     "data": {
      "text/plain": [
       "{'Name': 10,\n",
       " 'age': 44,\n",
       " 'City': 'Torono',\n",
       " 'tasks': [1, 2, 3, 4, 50],\n",
       " 'works': {'job': 'CloudxLab', 'Project': 'AI'},\n",
       " 'height': '5ft 9inch'}"
      ]
     },
     "execution_count": 118,
     "metadata": {},
     "output_type": "execute_result"
    }
   ],
   "source": [
    "d1"
   ]
  },
  {
   "cell_type": "code",
   "execution_count": 120,
   "metadata": {},
   "outputs": [
    {
     "data": {
      "text/plain": [
       "True"
      ]
     },
     "execution_count": 120,
     "metadata": {},
     "output_type": "execute_result"
    }
   ],
   "source": [
    "'age' in d1 # Constant time operation, O(1)"
   ]
  },
  {
   "cell_type": "code",
   "execution_count": 126,
   "metadata": {},
   "outputs": [
    {
     "data": {
      "text/plain": [
       "44"
      ]
     },
     "execution_count": 126,
     "metadata": {},
     "output_type": "execute_result"
    }
   ],
   "source": [
    "d1['age'] # Constant time operation, O(1)"
   ]
  },
  {
   "cell_type": "code",
   "execution_count": 125,
   "metadata": {},
   "outputs": [
    {
     "data": {
      "text/plain": [
       "'age'"
      ]
     },
     "execution_count": 125,
     "metadata": {},
     "output_type": "execute_result"
    }
   ],
   "source": [
    "l[2]"
   ]
  },
  {
   "cell_type": "code",
   "execution_count": 127,
   "metadata": {},
   "outputs": [
    {
     "data": {
      "text/plain": [
       "['City', 'Name', 'age', 'height', 'tasks', 'works']"
      ]
     },
     "execution_count": 127,
     "metadata": {},
     "output_type": "execute_result"
    }
   ],
   "source": [
    "l"
   ]
  },
  {
   "cell_type": "code",
   "execution_count": 129,
   "metadata": {},
   "outputs": [
    {
     "data": {
      "text/plain": [
       "True"
      ]
     },
     "execution_count": 129,
     "metadata": {},
     "output_type": "execute_result"
    }
   ],
   "source": [
    "'age' in l # Order of n"
   ]
  },
  {
   "cell_type": "code",
   "execution_count": 130,
   "metadata": {},
   "outputs": [
    {
     "data": {
      "text/plain": [
       "'height'"
      ]
     },
     "execution_count": 130,
     "metadata": {},
     "output_type": "execute_result"
    }
   ],
   "source": [
    "l[3]"
   ]
  },
  {
   "cell_type": "code",
   "execution_count": 132,
   "metadata": {},
   "outputs": [
    {
     "data": {
      "text/plain": [
       "188"
      ]
     },
     "execution_count": 132,
     "metadata": {},
     "output_type": "execute_result"
    }
   ],
   "source": [
    "hash('sandeep') % 1234"
   ]
  },
  {
   "cell_type": "code",
   "execution_count": 133,
   "metadata": {},
   "outputs": [
    {
     "data": {
      "text/plain": [
       "{'Name': 10,\n",
       " 'age': 44,\n",
       " 'City': 'Torono',\n",
       " 'tasks': [1, 2, 3, 4, 50],\n",
       " 'works': {'job': 'CloudxLab', 'Project': 'AI'},\n",
       " 'height': '5ft 9inch'}"
      ]
     },
     "execution_count": 133,
     "metadata": {},
     "output_type": "execute_result"
    }
   ],
   "source": [
    "d1"
   ]
  },
  {
   "cell_type": "code",
   "execution_count": 134,
   "metadata": {},
   "outputs": [
    {
     "data": {
      "text/plain": [
       "{'cwen': 2, 'marquard': 3, 'zhen': 5, 'csev': 3}"
      ]
     },
     "execution_count": 134,
     "metadata": {},
     "output_type": "execute_result"
    }
   ],
   "source": [
    "tally"
   ]
  },
  {
   "cell_type": "code",
   "execution_count": 139,
   "metadata": {},
   "outputs": [
    {
     "data": {
      "text/plain": [
       "0"
      ]
     },
     "execution_count": 139,
     "metadata": {},
     "output_type": "execute_result"
    }
   ],
   "source": [
    "tally.get('cwen1', 0)"
   ]
  },
  {
   "cell_type": "code",
   "execution_count": 140,
   "metadata": {},
   "outputs": [
    {
     "name": "stdout",
     "output_type": "stream",
     "text": [
      "Distance between 2 points.ipynb\t\t      nov3.ipynb\r\n",
      "img_Distance2points\t\t\t      nov6.ipynb\r\n",
      "mbox-short.txt\t\t\t\t      oct5_2024_classnotes.txt\r\n",
      "mbox.txt\t\t\t\t      oct 6.ipynb\r\n",
      "MultipleVariableEquationsSoln_Explained.xlsx  README.md\r\n",
      "MultipleVariableEquationsSoln.ipynb\t      resources.txt\r\n",
      "nov 10.ipynb\t\t\t\t      test_file.txt\r\n",
      "Nov 16.ipynb\t\t\t\t      txt.json\r\n",
      "Nov2.ipynb\t\t\t\t      Untitled.ipynb\r\n"
     ]
    }
   ],
   "source": [
    "!ls"
   ]
  },
  {
   "cell_type": "code",
   "execution_count": 144,
   "metadata": {},
   "outputs": [],
   "source": [
    "chars = {}\n",
    "with open('mbox.txt') as hdl:\n",
    "    for c in hdl.read():\n",
    "        chars[c] = chars.get(c, 0 ) + 1"
   ]
  },
  {
   "cell_type": "code",
   "execution_count": 145,
   "metadata": {},
   "outputs": [
    {
     "data": {
      "text/plain": [
       "{'F': 20557,\n",
       " 'r': 256629,\n",
       " 'o': 300187,\n",
       " 'm': 130937,\n",
       " ' ': 498382,\n",
       " 's': 229067,\n",
       " 't': 254609,\n",
       " 'e': 385082,\n",
       " 'p': 133993,\n",
       " 'h': 102009,\n",
       " 'n': 178127,\n",
       " '.': 261041,\n",
       " 'a': 319823,\n",
       " 'q': 3097,\n",
       " 'u': 203488,\n",
       " 'd': 115263,\n",
       " '@': 22019,\n",
       " 'c': 215369,\n",
       " 'z': 3305,\n",
       " 'S': 47180,\n",
       " 'J': 4856,\n",
       " '5': 48203,\n",
       " '0': 214249,\n",
       " '9': 40158,\n",
       " ':': 115389,\n",
       " '1': 147110,\n",
       " '4': 58134,\n",
       " '6': 29577,\n",
       " '2': 129239,\n",
       " '8': 48581,\n",
       " '\\n': 132045,\n",
       " 'R': 25230,\n",
       " '-': 199054,\n",
       " 'P': 34454,\n",
       " '<': 8994,\n",
       " 'l': 137484,\n",
       " 'b': 72772,\n",
       " 'k': 76287,\n",
       " 'i': 306085,\n",
       " 'j': 46299,\n",
       " 'g': 61818,\n",
       " '>': 10904,\n",
       " 'v': 72146,\n",
       " 'f': 53695,\n",
       " '(': 40160,\n",
       " '[': 16177,\n",
       " ']': 16177,\n",
       " ')': 40168,\n",
       " '\\t': 28874,\n",
       " 'y': 43993,\n",
       " 'C': 22746,\n",
       " '3': 67724,\n",
       " 'w': 38553,\n",
       " 'L': 7405,\n",
       " 'M': 47178,\n",
       " 'T': 48007,\n",
       " 'A': 35514,\n",
       " ';': 21582,\n",
       " ',': 18674,\n",
       " 'X': 14938,\n",
       " 'U': 9049,\n",
       " 'x': 19073,\n",
       " '7': 58187,\n",
       " 'E': 18951,\n",
       " 'O': 8970,\n",
       " 'B': 12797,\n",
       " 'Y': 4164,\n",
       " 'I': 10686,\n",
       " 'D': 33117,\n",
       " '+': 5414,\n",
       " 'G': 6880,\n",
       " 'H': 2008,\n",
       " 'V': 2611,\n",
       " '/': 176930,\n",
       " 'W': 8340,\n",
       " '_': 9286,\n",
       " '=': 9066,\n",
       " '?': 1791,\n",
       " '&': 1810,\n",
       " 'N': 12775,\n",
       " 'K': 10873,\n",
       " 'Z': 490,\n",
       " '#': 40,\n",
       " \"'\": 220,\n",
       " 'Q': 990,\n",
       " '|': 1030,\n",
       " '~': 208,\n",
       " '\"': 130,\n",
       " '!': 43,\n",
       " '%': 4,\n",
       " '$': 232,\n",
       " '^': 30,\n",
       " '*': 9,\n",
       " '\\\\': 1}"
      ]
     },
     "execution_count": 145,
     "metadata": {},
     "output_type": "execute_result"
    }
   ],
   "source": [
    "chars"
   ]
  },
  {
   "cell_type": "code",
   "execution_count": 146,
   "metadata": {},
   "outputs": [],
   "source": [
    "wordcount = {}\n",
    "with open('mbox.txt') as hdl:\n",
    "    for word in hdl.read().split():\n",
    "        wordcount[word] =wordcount.get(word, 0 ) + 1"
   ]
  },
  {
   "cell_type": "code",
   "execution_count": 147,
   "metadata": {},
   "outputs": [
    {
     "data": {
      "text/plain": [
       "{'From': 1798,\n",
       " 'stephen.marquard@uct.ac.za': 116,\n",
       " 'Sat': 122,\n",
       " 'Jan': 1310,\n",
       " '5': 430,\n",
       " '09:14:16': 4,\n",
       " '2008': 1189,\n",
       " 'Return-Path:': 1797,\n",
       " '<postmaster@collab.sakaiproject.org>': 1797,\n",
       " 'Received:': 16173,\n",
       " 'from': 14531,\n",
       " 'murder': 3594,\n",
       " '(mail.umich.edu': 1797,\n",
       " '[141.211.14.90])': 149,\n",
       " 'by': 16231,\n",
       " 'frankenstein.mail.umich.edu': 718,\n",
       " '(Cyrus': 3594,\n",
       " 'v2.3.8)': 1797,\n",
       " 'with': 12754,\n",
       " 'LMTPA;': 3594,\n",
       " 'Sat,': 575,\n",
       " '05': 134,\n",
       " '-0500': 11774,\n",
       " 'X-Sieve:': 1797,\n",
       " 'CMU': 1797,\n",
       " 'Sieve': 1797,\n",
       " '2.3': 1797,\n",
       " '([unix': 1797,\n",
       " 'socket])': 1797,\n",
       " 'mail.umich.edu': 1797,\n",
       " 'v2.2.12)': 1797,\n",
       " 'holes.mr.itd.umich.edu': 162,\n",
       " '(holes.mr.itd.umich.edu': 81,\n",
       " '[141.211.14.79])': 81,\n",
       " 'flawless.mail.umich.edu': 149,\n",
       " '()': 1797,\n",
       " 'ESMTP': 7188,\n",
       " 'id': 9012,\n",
       " 'm05EEFR1013674;': 1,\n",
       " '09:14:15': 1,\n",
       " 'FROM': 1797,\n",
       " 'paploo.uhi.ac.uk': 7188,\n",
       " '(app1.prod.collab.uhi.ac.uk': 1797,\n",
       " '[194.35.219.184])': 1797,\n",
       " 'BY': 1797,\n",
       " 'ID': 3595,\n",
       " '477F90B0.2DB2F.12494': 1,\n",
       " ';': 1797,\n",
       " '09:14:10': 2,\n",
       " '(localhost': 3594,\n",
       " '[127.0.0.1])': 3594,\n",
       " '(Postfix)': 3594,\n",
       " '5F919BC2F2;': 1,\n",
       " '14:10:05': 1,\n",
       " '+0000': 4932,\n",
       " '(GMT)': 4932,\n",
       " 'Message-ID:': 1797,\n",
       " '<200801051412.m05ECIaH010327@nakamura.uits.iupui.edu>': 1,\n",
       " 'Mime-Version:': 1797,\n",
       " '1.0': 1797,\n",
       " 'Content-Transfer-Encoding:': 1797,\n",
       " '7bit': 1797,\n",
       " 'prod.collab.uhi.ac.uk': 1797,\n",
       " '([194.35.219.182])': 1797,\n",
       " '(JAMES': 1797,\n",
       " 'SMTP': 3594,\n",
       " 'Server': 1797,\n",
       " '2.1.3)': 1797,\n",
       " '899': 3,\n",
       " 'for': 7710,\n",
       " '<source@collab.sakaiproject.org>;': 5391,\n",
       " '14:09:50': 1,\n",
       " 'nakamura.uits.iupui.edu': 7188,\n",
       " '(nakamura.uits.iupui.edu': 1797,\n",
       " '[134.68.220.122])': 1797,\n",
       " 'shmi.uhi.ac.uk': 1797,\n",
       " 'A215243002': 1,\n",
       " '14:13:33': 1,\n",
       " '(8.12.11.20060308/8.12.11)': 1797,\n",
       " 'm05ECJVp010329': 1,\n",
       " '09:12:19': 3,\n",
       " '(from': 1797,\n",
       " 'apache@localhost)': 1797,\n",
       " '(8.12.11.20060308/8.12.11/Submit)': 1797,\n",
       " 'm05ECIaH010327': 1,\n",
       " 'source@collab.sakaiproject.org;': 1797,\n",
       " '09:12:18': 5,\n",
       " 'Date:': 3587,\n",
       " 'X-Authentication-Warning:': 1789,\n",
       " 'nakamura.uits.iupui.edu:': 1789,\n",
       " 'apache': 1790,\n",
       " 'set': 1809,\n",
       " 'sender': 1791,\n",
       " 'to': 2765,\n",
       " 'using': 1819,\n",
       " '-f': 1789,\n",
       " 'To:': 1797,\n",
       " 'source@collab.sakaiproject.org': 1797,\n",
       " 'From:': 1797,\n",
       " 'Subject:': 1797,\n",
       " '[sakai]': 1780,\n",
       " 'svn': 2524,\n",
       " 'commit:': 1789,\n",
       " 'r39772': 1,\n",
       " '-': 2037,\n",
       " 'content/branches/sakai_2-5-x/content-impl/impl/src/java/org/sakaiproject/content/impl': 6,\n",
       " 'X-Content-Type-Outer-Envelope:': 1797,\n",
       " 'text/plain;': 5391,\n",
       " 'charset=UTF-8': 5391,\n",
       " 'X-Content-Type-Message-Body:': 1797,\n",
       " 'Content-Type:': 1797,\n",
       " 'X-DSPAM-Result:': 1797,\n",
       " 'Innocent': 1797,\n",
       " 'X-DSPAM-Processed:': 1797,\n",
       " 'X-DSPAM-Confidence:': 1797,\n",
       " '0.8475': 7,\n",
       " 'X-DSPAM-Probability:': 1797,\n",
       " '0.0000': 1797,\n",
       " 'Details:': 1790,\n",
       " 'http://source.sakaiproject.org/viewsvn/?view=rev&rev=39772': 1,\n",
       " 'Author:': 1798,\n",
       " '2008-01-05': 1,\n",
       " '09:12:07': 6,\n",
       " '(Sat,': 82,\n",
       " '2008)': 101,\n",
       " 'New': 1813,\n",
       " 'Revision:': 1798,\n",
       " '39772': 1,\n",
       " 'Modified:': 1541,\n",
       " 'content/branches/sakai_2-5-x/content-impl/impl/src/java/org/sakaiproject/content/impl/ContentServiceSqlOracle.java': 2,\n",
       " 'content/branches/sakai_2-5-x/content-impl/impl/src/java/org/sakaiproject/content/impl/DbContentService.java': 1,\n",
       " 'Log:': 1790,\n",
       " 'SAK-12501': 6,\n",
       " 'merge': 568,\n",
       " '2-5-x:': 1,\n",
       " 'r39622,': 1,\n",
       " 'r39624:5,': 1,\n",
       " 'r39632:3': 1,\n",
       " '(resolve': 1,\n",
       " 'conflict': 2,\n",
       " 'differing': 1,\n",
       " 'linebreaks': 1,\n",
       " 'r39622)': 1,\n",
       " '----------------------': 1801,\n",
       " 'This': 1817,\n",
       " 'automatic': 1797,\n",
       " 'notification': 1804,\n",
       " 'message': 1838,\n",
       " 'was': 1831,\n",
       " 'sent': 1800,\n",
       " 'Sakai': 1811,\n",
       " 'Collab': 1797,\n",
       " '(https://collab.sakaiproject.org/portal)': 1797,\n",
       " 'the': 2525,\n",
       " 'Source': 1802,\n",
       " 'site.': 1801,\n",
       " 'You': 1797,\n",
       " 'can': 1821,\n",
       " 'modify': 1797,\n",
       " 'how': 1802,\n",
       " 'you': 1824,\n",
       " 'receive': 1798,\n",
       " 'notifications': 1797,\n",
       " 'at': 1820,\n",
       " 'My': 1801,\n",
       " 'Workspace': 1797,\n",
       " '>': 1797,\n",
       " 'Preferences.': 1797,\n",
       " 'louis@media.berkeley.edu': 100,\n",
       " 'Fri': 639,\n",
       " '4': 451,\n",
       " '18:10:48': 4,\n",
       " '[141.211.14.97])': 133,\n",
       " 'Fri,': 2964,\n",
       " '04': 144,\n",
       " 'icestorm.mr.itd.umich.edu': 212,\n",
       " '(icestorm.mr.itd.umich.edu': 106,\n",
       " '[141.211.93.149])': 106,\n",
       " 'sleepers.mail.umich.edu': 133,\n",
       " 'm04NAbGa029441;': 1,\n",
       " '18:10:37': 1,\n",
       " '477EBCE3.161BB.4320': 1,\n",
       " '18:10:31': 1,\n",
       " '07969BB706;': 1,\n",
       " '23:10:33': 1,\n",
       " '<200801042308.m04N8v6O008125@nakamura.uits.iupui.edu>': 1,\n",
       " '710': 3,\n",
       " '23:10:10': 2,\n",
       " '4BA2F42F57': 1,\n",
       " 'm04N8vHG008127': 1,\n",
       " '18:08:57': 3,\n",
       " 'm04N8v6O008125': 1,\n",
       " 'r39771': 1,\n",
       " 'in': 944,\n",
       " 'bspace/site-manage/sakai_2-4-x/site-manage-tool/tool/src:': 3,\n",
       " 'bundle': 35,\n",
       " 'java/org/sakaiproject/site/tool': 19,\n",
       " '0.6178': 1,\n",
       " 'http://source.sakaiproject.org/viewsvn/?view=rev&rev=39771': 1,\n",
       " '2008-01-04': 21,\n",
       " '18:08:50': 2,\n",
       " '(Fri,': 404,\n",
       " '39771': 1,\n",
       " 'bspace/site-manage/sakai_2-4-x/site-manage-tool/tool/src/bundle/sitesetupgeneric.properties': 3,\n",
       " 'bspace/site-manage/sakai_2-4-x/site-manage-tool/tool/src/java/org/sakaiproject/site/tool/SiteAction.java': 1,\n",
       " 'BSP-1415': 1,\n",
       " '(Guest)': 1,\n",
       " 'user': 41,\n",
       " 'Notification': 2,\n",
       " 'zqian@umich.edu': 877,\n",
       " '16:10:39': 9,\n",
       " '[141.211.14.25])': 128,\n",
       " 'ghostbusters.mr.itd.umich.edu': 176,\n",
       " '(ghostbusters.mr.itd.umich.edu': 88,\n",
       " '[141.211.93.144])': 88,\n",
       " 'panther.mail.umich.edu': 128,\n",
       " 'm04LAcZw014275;': 1,\n",
       " '16:10:38': 2,\n",
       " '477EA0C6.A0214.25480': 1,\n",
       " '16:10:33': 1,\n",
       " 'C48CDBB490;': 1,\n",
       " '21:10:31': 1,\n",
       " '<200801042109.m04L92hb007923@nakamura.uits.iupui.edu>': 1,\n",
       " '906': 4,\n",
       " '21:10:18': 1,\n",
       " '7D13042F71': 1,\n",
       " '21:10:14': 1,\n",
       " 'm04L927E007925': 1,\n",
       " '16:09:02': 4,\n",
       " 'm04L92hb007923': 1,\n",
       " 'r39770': 1,\n",
       " 'site-manage/branches/sakai_2-5-x/site-manage-tool/tool/src/webapp/vm/sitesetup': 3,\n",
       " '0.6961': 1,\n",
       " 'http://source.sakaiproject.org/viewsvn/?view=rev&rev=39770': 1,\n",
       " '16:09:01': 1,\n",
       " '39770': 1,\n",
       " 'site-manage/branches/sakai_2-5-x/site-manage-tool/tool/src/webapp/vm/sitesetup/chef_site-siteInfo-list.vm': 1,\n",
       " 'fix': 277,\n",
       " 'SAK-9996': 3,\n",
       " 'into': 147,\n",
       " '2-5-x': 21,\n",
       " 'branch:': 15,\n",
       " '-r': 465,\n",
       " '39687:39688': 1,\n",
       " 'https://source.sakaiproject.org/svn/site-manage/trunk/': 4,\n",
       " 'rjlowe@iupui.edu': 373,\n",
       " '15:46:24': 4,\n",
       " 'dreamcatcher.mr.itd.umich.edu': 138,\n",
       " '(dreamcatcher.mr.itd.umich.edu': 69,\n",
       " '[141.211.14.43])': 87,\n",
       " 'm04KkNbx032077;': 1,\n",
       " '15:46:23': 1,\n",
       " '477E9B13.2F3BC.22965': 1,\n",
       " '15:46:13': 1,\n",
       " '4AE03BB552;': 1,\n",
       " '20:46:13': 1,\n",
       " '<200801042044.m04Kiem3007881@nakamura.uits.iupui.edu>': 1,\n",
       " '38': 3,\n",
       " '20:45:56': 1,\n",
       " 'A55D242F57': 1,\n",
       " '20:45:52': 1,\n",
       " 'm04KieqE007883': 1,\n",
       " '15:44:40': 3,\n",
       " 'm04Kiem3007881': 1,\n",
       " 'r39769': 1,\n",
       " 'gradebook/trunk/app/ui/src:': 9,\n",
       " 'java/org/sakaiproject/tool/gradebook/ui/helpers/beans': 4,\n",
       " 'java/org/sakaiproject/tool/gradebook/ui/helpers/producers': 2,\n",
       " 'webapp/WEB-INF': 11,\n",
       " 'webapp/WEB-INF/bundle': 3,\n",
       " '0.7565': 6,\n",
       " 'http://source.sakaiproject.org/viewsvn/?view=rev&rev=39769': 1,\n",
       " '15:44:39': 1,\n",
       " '39769': 1,\n",
       " 'gradebook/trunk/app/ui/src/java/org/sakaiproject/tool/gradebook/ui/helpers/beans/AssignmentGradeRecordBean.java': 2,\n",
       " 'gradebook/trunk/app/ui/src/java/org/sakaiproject/tool/gradebook/ui/helpers/producers/GradeGradebookItemProducer.java': 2,\n",
       " 'gradebook/trunk/app/ui/src/webapp/WEB-INF/applicationContext.xml': 5,\n",
       " 'gradebook/trunk/app/ui/src/webapp/WEB-INF/bundle/messages.properties': 4,\n",
       " 'gradebook/trunk/app/ui/src/webapp/WEB-INF/requestContext.xml': 5,\n",
       " 'SAK-12180': 3,\n",
       " 'Fixed': 76,\n",
       " 'errors': 9,\n",
       " 'grading': 6,\n",
       " 'helper': 6,\n",
       " '15:03:18': 4,\n",
       " '[141.211.14.46])': 153,\n",
       " 'firestarter.mr.itd.umich.edu': 184,\n",
       " '(firestarter.mr.itd.umich.edu': 92,\n",
       " '[141.211.14.83])': 92,\n",
       " 'fan.mail.umich.edu': 153,\n",
       " 'm04K3HGF006563;': 1,\n",
       " '15:03:17': 1,\n",
       " '477E9100.8F7F4.1590': 1,\n",
       " '15:03:15': 2,\n",
       " '57770BB477;': 1,\n",
       " '20:03:09': 1,\n",
       " '<200801042001.m04K1cO0007738@nakamura.uits.iupui.edu>': 1,\n",
       " '622': 3,\n",
       " '20:02:46': 1,\n",
       " 'AB4D042F4D': 1,\n",
       " '20:02:50': 3,\n",
       " 'm04K1cXv007740': 1,\n",
       " '15:01:38': 3,\n",
       " 'm04K1cO0007738': 1,\n",
       " 'r39766': 1,\n",
       " 'site-manage/branches/sakai_2-4-x/site-manage-tool/tool/src/java/org/sakaiproject/site/tool': 4,\n",
       " '0.7626': 4,\n",
       " 'http://source.sakaiproject.org/viewsvn/?view=rev&rev=39766': 1,\n",
       " '15:01:37': 1,\n",
       " '39766': 1,\n",
       " 'site-manage/branches/sakai_2-4-x/site-manage-tool/tool/src/java/org/sakaiproject/site/tool/SiteAction.java': 7,\n",
       " 'SAK-10788': 1,\n",
       " 'site-manage': 8,\n",
       " '2.4.x': 44,\n",
       " 'Repository': 6,\n",
       " '#38024': 1,\n",
       " 'Wed': 589,\n",
       " 'Nov': 8988,\n",
       " '07': 273,\n",
       " '14:54:46': 1,\n",
       " 'MST': 37,\n",
       " '2007': 20413,\n",
       " 'Fix': 58,\n",
       " 'SAK-10788:': 2,\n",
       " 'If': 11,\n",
       " 'a': 249,\n",
       " 'provided': 6,\n",
       " 'couse': 2,\n",
       " 'site': 56,\n",
       " 'is': 180,\n",
       " 'fake': 2,\n",
       " 'or': 25,\n",
       " \"doesn't\": 10,\n",
       " 'provide': 2,\n",
       " 'any': 10,\n",
       " 'information,': 4,\n",
       " 'Site': 29,\n",
       " 'Info': 6,\n",
       " 'appears': 5,\n",
       " 'be': 94,\n",
       " 'like': 4,\n",
       " 'project': 6,\n",
       " 'empty': 20,\n",
       " 'participant': 2,\n",
       " 'list': 38,\n",
       " 'Watch': 2,\n",
       " 'enrollments': 2,\n",
       " 'object': 5,\n",
       " 'being': 27,\n",
       " 'null': 22,\n",
       " 'and': 276,\n",
       " 'concatenate': 2,\n",
       " 'provider': 15,\n",
       " 'ids': 4,\n",
       " 'when': 119,\n",
       " 'there': 33,\n",
       " 'are': 46,\n",
       " 'more': 29,\n",
       " 'than': 16,\n",
       " 'one.': 4,\n",
       " 'Files': 51,\n",
       " 'Changed': 60,\n",
       " 'MODIFY': 85,\n",
       " '/site-manage/trunk/site-manage-tool/tool/src/java/org/sakaiproject/site/tool/SiteAction.java': 1,\n",
       " '14:50:18': 4,\n",
       " '[141.211.14.93])': 144,\n",
       " 'eyewitness.mr.itd.umich.edu': 186,\n",
       " '(eyewitness.mr.itd.umich.edu': 93,\n",
       " '[141.211.93.142])': 93,\n",
       " 'mission.mail.umich.edu': 144,\n",
       " 'm04JoHJi019755;': 1,\n",
       " '14:50:17': 5,\n",
       " '477E8DF2.67B91.5278': 1,\n",
       " '14:50:13': 1,\n",
       " '2D1B9BB492;': 1,\n",
       " '19:47:10': 1,\n",
       " '<200801041948.m04JmdwO007705@nakamura.uits.iupui.edu>': 1,\n",
       " '960': 4,\n",
       " '19:46:50': 1,\n",
       " 'B3E6742F4A': 1,\n",
       " '19:49:51': 1,\n",
       " 'm04JmeV9007707': 1,\n",
       " '14:48:40': 1,\n",
       " 'm04JmdwO007705': 1,\n",
       " '14:48:39': 2,\n",
       " 'r39765': 1,\n",
       " 'gradebook/trunk/app:': 6,\n",
       " 'business/src/java/org/sakaiproject/tool/gradebook/business': 1,\n",
       " 'business/src/java/org/sakaiproject/tool/gradebook/business/impl': 5,\n",
       " 'ui': 5,\n",
       " 'ui/src/java/org/sakaiproject/tool/gradebook/ui/helpers/beans': 1,\n",
       " 'ui/src/java/org/sakaiproject/tool/gradebook/ui/helpers/entity': 1,\n",
       " 'ui/src/java/org/sakaiproject/tool/gradebook/ui/helpers/params': 1,\n",
       " 'ui/src/java/org/sakaiproject/tool/gradebook/ui/helpers/producers': 2,\n",
       " 'ui/src/webapp/WEB-INF': 2,\n",
       " 'ui/src/webapp/WEB-INF/bundle': 1,\n",
       " 'ui/src/webapp/content/templates': 1,\n",
       " '0.7556': 5,\n",
       " 'http://source.sakaiproject.org/viewsvn/?view=rev&rev=39765': 1,\n",
       " '14:48:37': 5,\n",
       " '39765': 1,\n",
       " 'Added:': 355,\n",
       " 'gradebook/trunk/app/ui/src/java/org/sakaiproject/tool/gradebook/ui/helpers/beans/AssignmentGradeRecordCreator.java': 1,\n",
       " 'gradebook/trunk/app/ui/src/java/org/sakaiproject/tool/gradebook/ui/helpers/entity/GradebookEntryGradeEntityProvider.java': 1,\n",
       " 'gradebook/trunk/app/ui/src/java/org/sakaiproject/tool/gradebook/ui/helpers/params/GradeGradebookItemViewParams.java': 1,\n",
       " 'gradebook/trunk/app/ui/src/webapp/content/templates/grade-gradebook-item.html': 1,\n",
       " 'gradebook/trunk/app/business/src/java/org/sakaiproject/tool/gradebook/business/GradebookManager.java': 4,\n",
       " 'gradebook/trunk/app/business/src/java/org/sakaiproject/tool/gradebook/business/impl/GradebookManagerHibernateImpl.java': 14,\n",
       " 'gradebook/trunk/app/ui/pom.xml': 2,\n",
       " 'gradebook/trunk/app/ui/src/java/org/sakaiproject/tool/gradebook/ui/helpers/beans/GradebookItemBean.java': 4,\n",
       " 'gradebook/trunk/app/ui/src/java/org/sakaiproject/tool/gradebook/ui/helpers/entity/GradebookEntryEntityProvider.java': 2,\n",
       " 'gradebook/trunk/app/ui/src/java/org/sakaiproject/tool/gradebook/ui/helpers/producers/AddGradebookItemProducer.java': 4,\n",
       " 'tool': 94,\n",
       " 'grade': 39,\n",
       " 'an': 55,\n",
       " 'assignment': 68,\n",
       " 'cwen@iupui.edu': 655,\n",
       " '11:37:30': 4,\n",
       " 'tadpole.mr.itd.umich.edu': 154,\n",
       " '(tadpole.mr.itd.umich.edu': 77,\n",
       " '[141.211.14.72])': 77,\n",
       " 'm04GbT9x022078;': 1,\n",
       " '11:37:29': 1,\n",
       " '477E60B2.82756.9904': 1,\n",
       " '11:37:09': 5,\n",
       " '8D13DBB001;': 1,\n",
       " '16:37:07': 1,\n",
       " '<200801041635.m04GZQGZ007313@nakamura.uits.iupui.edu>': 1,\n",
       " '120': 3,\n",
       " '16:36:40': 3,\n",
       " 'D430B42E42': 1,\n",
       " '16:36:37': 2,\n",
       " 'm04GZQ7W007315': 1,\n",
       " '11:35:26': 4,\n",
       " 'm04GZQGZ007313': 1,\n",
       " 'r39764': 1,\n",
       " 'msgcntr/trunk/messageforums-app/src/java/org/sakaiproject/tool/messageforums:': 2,\n",
       " '.': 217,\n",
       " '0.7002': 4,\n",
       " 'http://source.sakaiproject.org/viewsvn/?view=rev&rev=39764': 1,\n",
       " '11:35:25': 1,\n",
       " '39764': 1,\n",
       " 'msgcntr/trunk/messageforums-app/src/java/org/sakaiproject/tool/messageforums/PrivateMessagesTool.java': 7,\n",
       " 'msgcntr/trunk/messageforums-app/src/java/org/sakaiproject/tool/messageforums/ui/PrivateMessageDecoratedBean.java': 2,\n",
       " 'unmerge': 5,\n",
       " \"Xingtang's\": 2,\n",
       " 'checkin': 3,\n",
       " 'SAK-12488.': 3,\n",
       " '-r39558:39557': 1,\n",
       " 'https://source.sakaiproject.org/svn/msgcntr/trunk': 31,\n",
       " 'U': 604,\n",
       " 'messageforums-app/src/java/org/sakaiproject/tool/messageforums/PrivateMessagesTool.java': 10,\n",
       " 'messageforums-app/src/java/org/sakaiproject/tool/messageforums/ui/PrivateMessageDecoratedBean.java': 1,\n",
       " 'log': 301,\n",
       " '39558': 2,\n",
       " '------------------------------------------------------------------------': 623,\n",
       " 'r39558': 2,\n",
       " '|': 1029,\n",
       " 'hu2@iupui.edu': 31,\n",
       " '2007-12-20': 59,\n",
       " '15:25:38': 2,\n",
       " '(Thu,': 439,\n",
       " '20': 1618,\n",
       " 'Dec': 9267,\n",
       " '2007)': 2032,\n",
       " '3': 682,\n",
       " 'lines': 151,\n",
       " 'SAK-12488': 3,\n",
       " 'send': 2,\n",
       " 'yourself.': 2,\n",
       " 'click': 11,\n",
       " 'reply': 4,\n",
       " 'all,': 2,\n",
       " 'cc': 7,\n",
       " 'row': 3,\n",
       " 'should': 46,\n",
       " 'null.': 2,\n",
       " 'http://jira.sakaiproject.org/jira/browse/SAK-12488': 2,\n",
       " '11:35:08': 4,\n",
       " 'it.mr.itd.umich.edu': 186,\n",
       " '(it.mr.itd.umich.edu': 93,\n",
       " '[141.211.93.151])': 93,\n",
       " 'm04GZ6lt020480;': 1,\n",
       " '11:35:06': 1,\n",
       " '477E6033.6469D.21870': 1,\n",
       " '11:35:02': 1,\n",
       " 'E40FABAE5B;': 1,\n",
       " '16:34:38': 1,\n",
       " '<200801041633.m04GX6eG007292@nakamura.uits.iupui.edu>': 1,\n",
       " '697': 3,\n",
       " '16:34:01': 1,\n",
       " '1CD0C42E42': 1,\n",
       " '16:34:17': 1,\n",
       " 'm04GX6Y3007294': 1,\n",
       " '11:33:06': 3,\n",
       " 'm04GX6eG007292': 1,\n",
       " 'r39763': 1,\n",
       " 'msgcntr/trunk:': 5,\n",
       " 'messageforums-api/src/bundle/org/sakaiproject/api/app/messagecenter/bundle': 6,\n",
       " 'messageforums-app/src/java/org/sakaiproject/tool/messageforums': 7,\n",
       " '0.7615': 7,\n",
       " 'http://source.sakaiproject.org/viewsvn/?view=rev&rev=39763': 1,\n",
       " '11:33:05': 1,\n",
       " '39763': 1,\n",
       " 'msgcntr/trunk/messageforums-api/src/bundle/org/sakaiproject/api/app/messagecenter/bundle/Messages.properties': 4,\n",
       " 'check': 34,\n",
       " 'SAK-12484.': 1,\n",
       " '-r39571:39570': 1,\n",
       " 'messageforums-api/src/bundle/org/sakaiproject/api/app/messagecenter/bundle/Messages.properties': 3,\n",
       " '39571': 2,\n",
       " 'r39571': 2,\n",
       " '21:26:28': 2,\n",
       " 'SAK-12484': 2,\n",
       " 'all': 57,\n",
       " 'not': 136,\n",
       " 'include': 20,\n",
       " 'current': 14,\n",
       " 'name.': 6,\n",
       " 'http://jira.sakaiproject.org/jira/browse/SAK-12484': 2,\n",
       " 'gsilver@umich.edu': 120,\n",
       " '11:12:37': 5,\n",
       " 'm04GCaHB030887;': 1,\n",
       " '11:12:36': 1,\n",
       " '477E5AEB.E670B.28397': 1,\n",
       " '11:12:30': 1,\n",
       " '99715BAE7D;': 1,\n",
       " '16:12:27': 1,\n",
       " '<200801041611.m04GB1Lb007221@nakamura.uits.iupui.edu>': 1,\n",
       " '272': 2,\n",
       " '16:12:14': 1,\n",
       " '0A6ED42DFC': 1,\n",
       " '16:12:12': 1,\n",
       " 'm04GB1Wt007223': 1,\n",
       " '11:11:01': 3,\n",
       " 'm04GB1Lb007221': 1,\n",
       " 'r39762': 1,\n",
       " 'web/trunk/web-tool/tool/src/bundle': 1,\n",
       " '0.7601': 2,\n",
       " 'http://source.sakaiproject.org/viewsvn/?view=rev&rev=39762': 1,\n",
       " '11:11:00': 1,\n",
       " '39762': 1,\n",
       " 'web/trunk/web-tool/tool/src/bundle/iframe.properties': 2,\n",
       " 'SAK-12596': 1,\n",
       " 'http://bugs.sakaiproject.org/jira/browse/SAK-12596': 1,\n",
       " 'left': 11,\n",
       " 'moot': 8,\n",
       " '(unused)': 8,\n",
       " 'entries': 9,\n",
       " 'commented': 13,\n",
       " 'now': 46,\n",
       " '11:11:52': 5,\n",
       " '[141.211.14.36])': 143,\n",
       " 'creepshow.mr.itd.umich.edu': 192,\n",
       " '(creepshow.mr.itd.umich.edu': 96,\n",
       " '[141.211.14.84])': 96,\n",
       " 'godsend.mail.umich.edu': 143,\n",
       " 'm04GBqqv025330;': 1,\n",
       " '477E5AB3.5CC32.30840': 1,\n",
       " '11:11:34': 1,\n",
       " '62AA4BAE46;': 1,\n",
       " '16:11:31': 1,\n",
       " '<200801041610.m04GA5KP007209@nakamura.uits.iupui.edu>': 1,\n",
       " '1006': 3,\n",
       " '16:11:18': 1,\n",
       " 'C596A3DFA2': 1,\n",
       " '16:11:16': 5,\n",
       " 'm04GA5LR007211': 1,\n",
       " '11:10:05': 7,\n",
       " 'm04GA5KP007209': 1,\n",
       " 'r39761': 1,\n",
       " 'site/trunk/site-tool/tool/src/bundle': 1,\n",
       " '0.7605': 5,\n",
       " 'http://source.sakaiproject.org/viewsvn/?view=rev&rev=39761': 1,\n",
       " '11:10:04': 2,\n",
       " '39761': 1,\n",
       " 'site/trunk/site-tool/tool/src/bundle/admin.properties': 1,\n",
       " 'SAK-12595': 1,\n",
       " 'http://bugs.sakaiproject.org/jira/browse/SAK-12595': 1,\n",
       " '11:11:03': 5,\n",
       " 'carrie.mr.itd.umich.edu': 188,\n",
       " '(carrie.mr.itd.umich.edu': 94,\n",
       " '[141.211.93.152])': 94,\n",
       " 'm04GB3Vg011502;': 1,\n",
       " '477E5A8D.B378F.24200': 1,\n",
       " '11:10:56': 5,\n",
       " 'C7251BAD44;': 1,\n",
       " '16:10:53': 1,\n",
       " '<200801041609.m04G9EuX007197@nakamura.uits.iupui.edu>': 1,\n",
       " '483': 5,\n",
       " '16:10:27': 1,\n",
       " '2E7043DFA2': 1,\n",
       " '16:10:26': 1,\n",
       " 'm04G9Eqg007199': 1,\n",
       " '11:09:15': 1,\n",
       " 'm04G9EuX007197': 1,\n",
       " '11:09:14': 3,\n",
       " 'r39760': 1,\n",
       " 'site-manage/trunk/site-manage-tool/tool/src:': 8,\n",
       " 'webapp/vm/sitesetup': 16,\n",
       " '0.6959': 3,\n",
       " 'http://source.sakaiproject.org/viewsvn/?view=rev&rev=39760': 1,\n",
       " '11:09:12': 1,\n",
       " '39760': 1,\n",
       " 'site-manage/trunk/site-manage-tool/tool/src/java/org/sakaiproject/site/tool/SiteAction.java': 16,\n",
       " 'site-manage/trunk/site-manage-tool/tool/src/webapp/vm/sitesetup/chef_site-siteInfo-list.vm': 4,\n",
       " 'SAK-10911:': 1,\n",
       " 'Refactor': 2,\n",
       " 'use': 39,\n",
       " 'of': 232,\n",
       " 'site.upd,': 1,\n",
       " 'site.upd.site.mbrship': 1,\n",
       " 'site.upd.grp.mbrship': 1,\n",
       " 'permissions': 6,\n",
       " '11:10:22': 4,\n",
       " '[141.211.14.39])': 151,\n",
       " 'faithful.mail.umich.edu': 151,\n",
       " 'm04GAL9k010604;': 1,\n",
       " '11:10:21': 1,\n",
       " '477E5A67.34350.23015': 1,\n",
       " '11:10:18': 1,\n",
       " '98D04BAD43;': 1,\n",
       " '16:10:11': 1,\n",
       " '<200801041608.m04G8d7w007184@nakamura.uits.iupui.edu>': 1,\n",
       " '966': 1,\n",
       " '16:09:51': 1,\n",
       " '9F89542DD0': 1,\n",
       " '16:09:50': 5,\n",
       " 'm04G8dXN007186': 1,\n",
       " '11:08:39': 3,\n",
       " 'm04G8d7w007184': 1,\n",
       " 'r39759': 1,\n",
       " 'mailarchive/trunk/mailarchive-tool/tool/src/bundle': 1,\n",
       " '0.7606': 3,\n",
       " 'http://source.sakaiproject.org/viewsvn/?view=rev&rev=39759': 1,\n",
       " '11:08:38': 4,\n",
       " '39759': 1,\n",
       " 'mailarchive/trunk/mailarchive-tool/tool/src/bundle/email.properties': 1,\n",
       " 'SAK-12592': 1,\n",
       " 'http://bugs.sakaiproject.org/jira/browse/SAK-12592': 1,\n",
       " 'wagnermr@iupui.edu': 197,\n",
       " '10:38:42': 4,\n",
       " 'shining.mr.itd.umich.edu': 206,\n",
       " '(shining.mr.itd.umich.edu': 103,\n",
       " '[141.211.93.153])': 103,\n",
       " 'm04Fcfjm012313;': 1,\n",
       " '10:38:41': 1,\n",
       " '477E52FA.E6C6E.24093': 1,\n",
       " '10:38:37': 1,\n",
       " '6A39594CD2;': 1,\n",
       " '15:37:36': 1,\n",
       " '<200801041537.m04Fb6Ci007092@nakamura.uits.iupui.edu>': 1,\n",
       " '690': 3,\n",
       " '15:37:21': 1,\n",
       " 'CEFA037ACE': 1,\n",
       " '15:38:17': 1,\n",
       " 'm04Fb6nh007094': 1,\n",
       " '10:37:06': 3,\n",
       " 'm04Fb6Ci007092': 1,\n",
       " 'r39758': 1,\n",
       " 'gradebook/trunk:': 10,\n",
       " 'app/business/src/java/org/sakaiproject/tool/gradebook/business/impl': 9,\n",
       " 'service/api/src/java/org/sakaiproject/service/gradebook/shared': 9,\n",
       " 'service/impl/src/java/org/sakaiproject/component/gradebook': 10,\n",
       " '0.7559': 3,\n",
       " 'http://source.sakaiproject.org/viewsvn/?view=rev&rev=39758': 1,\n",
       " '10:37:04': 2,\n",
       " '39758': 1,\n",
       " 'gradebook/trunk/service/api/src/java/org/sakaiproject/service/gradebook/shared/GradebookService.java': 14,\n",
       " 'gradebook/trunk/service/impl/src/java/org/sakaiproject/component/gradebook/GradebookServiceHibernateImpl.java': 14,\n",
       " 'SAK-12175': 11,\n",
       " 'http://bugs.sakaiproject.org/jira/browse/SAK-12175': 11,\n",
       " 'Create': 15,\n",
       " 'methods': 18,\n",
       " 'required': 15,\n",
       " 'gb': 23,\n",
       " 'integration': 13,\n",
       " 'Assignment2': 11,\n",
       " 'getGradeDefinitionForStudentForItem': 1,\n",
       " '10:17:43': 2,\n",
       " '10:17:42': 3,\n",
       " 'm04FHgfs011536;': 1,\n",
       " '477E4E0F.CCA4B.926': 1,\n",
       " '10:17:38': 1,\n",
       " 'BD02DBAC64;': 1,\n",
       " '15:17:34': 2,\n",
       " '<200801041515.m04FFv42007050@nakamura.uits.iupui.edu>': 1,\n",
       " '25': 435,\n",
       " '15:17:11': 1,\n",
       " '5B396236B9': 1,\n",
       " '15:17:08': 2,\n",
       " 'm04FFv85007052': 1,\n",
       " '10:15:57': 3,\n",
       " 'm04FFv42007050': 1,\n",
       " 'r39757': 1,\n",
       " 'assignment/trunk:': 24,\n",
       " 'assignment-impl/impl/src/java/org/sakaiproject/assignment/impl': 30,\n",
       " 'assignment-tool/tool/src/webapp/vm/assignment': 23,\n",
       " 'http://source.sakaiproject.org/viewsvn/?view=rev&rev=39757': 1,\n",
       " '10:15:54': 1,\n",
       " '39757': 1,\n",
       " 'assignment/trunk/assignment-impl/impl/src/java/org/sakaiproject/assignment/impl/BaseAssignmentService.java': 15,\n",
       " 'assignment/trunk/assignment-tool/tool/src/webapp/vm/assignment/chef_assignments_instructor_list_submissions.vm': 5,\n",
       " \"SAK-12604:Don't\": 1,\n",
       " 'show': 13,\n",
       " 'groups/sections': 1,\n",
       " 'filter': 2,\n",
       " 'if': 48,\n",
       " 'have': 38,\n",
       " 'antranig@caret.cam.ac.uk': 72,\n",
       " '10:04:14': 4,\n",
       " 'm04F4Dci015108;': 1,\n",
       " '10:04:13': 1,\n",
       " '477E4AE3.D7AF.31669': 1,\n",
       " '10:04:05': 4,\n",
       " '933E3BAC17;': 1,\n",
       " '15:04:00': 1,\n",
       " '<200801041502.m04F21Jo007031@nakamura.uits.iupui.edu>': 1,\n",
       " '32': 3,\n",
       " 'AC2F6236B9': 1,\n",
       " '15:03:12': 1,\n",
       " 'm04F21hn007033': 1,\n",
       " '10:02:01': 3,\n",
       " 'm04F21Jo007031': 1,\n",
       " 'r39756': 1,\n",
       " 'component/branches/SAK-12166/component-api/component/src/java/org/sakaiproject/component:': 1,\n",
       " 'impl': 22,\n",
       " 'impl/spring/support': 1,\n",
       " 'impl/spring/support/dynamic': 1,\n",
       " 'impl/support': 1,\n",
       " 'util': 13,\n",
       " '0.6932': 2,\n",
       " 'http://source.sakaiproject.org/viewsvn/?view=rev&rev=39756': 1,\n",
       " '10:01:40': 1,\n",
       " '39756': 1,\n",
       " 'component/branches/SAK-12166/component-api/component/src/java/org/sakaiproject/component/impl/spring/support/dynamic/': 1,\n",
       " 'component/branches/SAK-12166/component-api/component/src/java/org/sakaiproject/component/impl/spring/support/dynamic/DynamicComponentManager.java': 1,\n",
       " 'component/branches/SAK-12166/component-api/component/src/java/org/sakaiproject/component/impl/support/': 1,\n",
       " 'component/branches/SAK-12166/component-api/component/src/java/org/sakaiproject/component/impl/support/DynamicComponentRecord.java': 1,\n",
       " 'component/branches/SAK-12166/component-api/component/src/java/org/sakaiproject/component/impl/support/DynamicJARManager.java': 1,\n",
       " 'component/branches/SAK-12166/component-api/component/src/java/org/sakaiproject/component/impl/support/JARRecord.java': 1,\n",
       " 'component/branches/SAK-12166/component-api/component/src/java/org/sakaiproject/component/util/ByteToCharBase64.java': 1,\n",
       " 'component/branches/SAK-12166/component-api/component/src/java/org/sakaiproject/component/util/FileUtil.java': 1,\n",
       " 'component/branches/SAK-12166/component-api/component/src/java/org/sakaiproject/component/util/RecordFileIO.java': 1,\n",
       " 'component/branches/SAK-12166/component-api/component/src/java/org/sakaiproject/component/util/RecordReader.java': 1,\n",
       " 'component/branches/SAK-12166/component-api/component/src/java/org/sakaiproject/component/util/RecordWriter.java': 1,\n",
       " 'component/branches/SAK-12166/component-api/component/src/java/org/sakaiproject/component/util/StreamDigestor.java': 1,\n",
       " 'component/branches/SAK-12166/component-api/component/src/java/org/sakaiproject/component/impl/spring/support/ComponentsLoaderImpl.java': 2,\n",
       " 'Temporary': 2,\n",
       " 'commit': 19,\n",
       " 'incomplete': 1,\n",
       " 'work': 37,\n",
       " 'on': 104,\n",
       " 'JAR': 1,\n",
       " 'caching': 8,\n",
       " 'gopal.ramasammycook@gmail.com': 100,\n",
       " '09:05:31': 4,\n",
       " 'guys.mr.itd.umich.edu': 160,\n",
       " '(guys.mr.itd.umich.edu': 80,\n",
       " '[141.211.14.76])': 80,\n",
       " 'm04E5U3C029277;': 1,\n",
       " '09:05:30': 1,\n",
       " '477E3D23.EE2E7.5237': 1,\n",
       " '09:05:26': 1,\n",
       " '33C7856DC0;': 1,\n",
       " '14:05:26': 1,\n",
       " '<200801041403.m04E3psW006926@nakamura.uits.iupui.edu>': 1,\n",
       " '575': 2,\n",
       " '14:05:04': 1,\n",
       " '3C0261D617': 1,\n",
       " '14:05:03': 1,\n",
       " 'm04E3pQS006928': 1,\n",
       " '09:03:52': 5,\n",
       " 'm04E3psW006926': 1,\n",
       " '09:03:51': 3,\n",
       " 'r39755': 1,\n",
       " 'sam/branches/SAK-12065:': 17,\n",
       " 'samigo-api/src/java/org/sakaiproject/tool/assessment/shared/api/grading': 2,\n",
       " 'samigo-app/src/java/org/sakaiproject/tool/assessment/ui/bean/evaluation': 7,\n",
       " 'samigo-app/src/java/org/sakaiproject/tool/assessment/ui/listener/evaluation': 9,\n",
       " 'samigo-services/src/java/org/sakaiproject/tool/assessment/facade': 19,\n",
       " 'samigo-services/src/java/org/sakaiproject/tool/assessment/integration/helper/ifc': 1,\n",
       " 'samigo-services/src/java/org/sakaiproject/tool/assessment/integration/helper/integrated': 3,\n",
       " 'samigo-services/src/java/org/sakaiproject/tool/assessment/integration/helper/standalone': 1,\n",
       " 'samigo-services/src/java/org/sakaiproject/tool/assessment/shared/impl/grading': 1,\n",
       " '0.7558': 5,\n",
       " 'http://source.sakaiproject.org/viewsvn/?view=rev&rev=39755': 1,\n",
       " '09:02:54': 1,\n",
       " '39755': 1,\n",
       " 'sam/branches/SAK-12065/samigo-api/src/java/org/sakaiproject/tool/assessment/shared/api/grading/GradingSectionAwareServiceAPI.java': 1,\n",
       " 'sam/branches/SAK-12065/samigo-app/src/java/org/sakaiproject/tool/assessment/ui/bean/evaluation/QuestionScoresBean.java': 2,\n",
       " 'sam/branches/SAK-12065/samigo-app/src/java/org/sakaiproject/tool/assessment/ui/bean/evaluation/SubmissionStatusBean.java': 2,\n",
       " 'sam/branches/SAK-12065/samigo-app/src/java/org/sakaiproject/tool/assessment/ui/bean/evaluation/TotalScoresBean.java': 2,\n",
       " 'sam/branches/SAK-12065/samigo-app/src/java/org/sakaiproject/tool/assessment/ui/listener/evaluation/SubmissionStatusListener.java': 1,\n",
       " 'sam/branches/SAK-12065/samigo-services/src/java/org/sakaiproject/tool/assessment/facade/PublishedAssessmentFacadeQueries.java': 13,\n",
       " 'sam/branches/SAK-12065/samigo-services/src/java/org/sakaiproject/tool/assessment/facade/PublishedAssessmentFacadeQueriesAPI.java': 4,\n",
       " 'sam/branches/SAK-12065/samigo-services/src/java/org/sakaiproject/tool/assessment/integration/helper/ifc/SectionAwareServiceHelper.java': 1,\n",
       " 'sam/branches/SAK-12065/samigo-services/src/java/org/sakaiproject/tool/assessment/integration/helper/integrated/SectionAwareServiceHelperImpl.java': 2,\n",
       " 'sam/branches/SAK-12065/samigo-services/src/java/org/sakaiproject/tool/assessment/integration/helper/standalone/SectionAwareServiceHelperImpl.java': 1,\n",
       " 'sam/branches/SAK-12065/samigo-services/src/java/org/sakaiproject/tool/assessment/shared/impl/grading/GradingSectionAwareServiceImpl.java': 1,\n",
       " 'SAK-12065': 16,\n",
       " 'Gopal': 5,\n",
       " 'Samigo': 5,\n",
       " 'Group': 5,\n",
       " 'Release.': 2,\n",
       " 'SubmissionStatus/TotalScores/Questions': 1,\n",
       " 'View': 19,\n",
       " 'filter.': 1,\n",
       " 'david.horwitz@uct.ac.za': 292,\n",
       " '07:02:32': 4,\n",
       " 'm04C2VN7026678;': 1,\n",
       " '07:02:31': 1,\n",
       " '477E2050.C2599.3263': 1,\n",
       " '07:02:27': 1,\n",
       " '6497FBA906;': 1,\n",
       " '12:02:11': 1,\n",
       " '<200801041200.m04C0gfK006793@nakamura.uits.iupui.edu>': 1,\n",
       " '611': 5,\n",
       " '12:01:53': 2,\n",
       " '5296342D3C': 1,\n",
       " 'm04C0gnm006795': 1,\n",
       " '07:00:42': 3,\n",
       " 'm04C0gfK006793': 1,\n",
       " 'r39754': 1,\n",
       " 'polls/branches/sakai_2-5-x:': 1,\n",
       " 'tool/src/java/org/sakaiproject/poll/tool': 2,\n",
       " 'tool/src/java/org/sakaiproject/poll/tool/evolvers': 2,\n",
       " 'tool/src/webapp/WEB-INF': 7,\n",
       " '0.6526': 2,\n",
       " 'http://source.sakaiproject.org/viewsvn/?view=rev&rev=39754': 1,\n",
       " '07:00:10': 1,\n",
       " '39754': 1,\n",
       " 'polls/branches/sakai_2-5-x/tool/src/java/org/sakaiproject/poll/tool/evolvers/': 1,\n",
       " 'polls/branches/sakai_2-5-x/tool/src/java/org/sakaiproject/poll/tool/evolvers/SakaiFCKTextEvolver.java': 2,\n",
       " 'Removed:': 132,\n",
       " 'polls/branches/sakai_2-5-x/.classpath': 1,\n",
       " 'polls/branches/sakai_2-5-x/tool/pom.xml': 1,\n",
       " 'polls/branches/sakai_2-5-x/tool/src/webapp/WEB-INF/requestContext.xml': 1,\n",
       " '-r39753': 1,\n",
       " 'https://source.sakaiproject.org/svn/polls/trunk': 23,\n",
       " 'r39753': 2,\n",
       " '13:05:51': 1,\n",
       " '+0200': 18,\n",
       " '1': 492,\n",
       " 'line': 202,\n",
       " 'SAK-12228': 2,\n",
       " 'implmented': 2,\n",
       " 'workaround': 2,\n",
       " 'sugested': 2,\n",
       " 'AB': 2,\n",
       " 'needs': 21,\n",
       " 'tested': 6,\n",
       " 'against': 7,\n",
       " 'trunk': 35,\n",
       " 'build': 34,\n",
       " 'dhorwitz@david-horwitz-6:~/branchManagemnt/sakai_2-5-x>': 34,\n",
       " '-c39753': 1,\n",
       " 'polls/': 1,\n",
       " 'polls/.classpath': 1,\n",
       " 'A': 134,\n",
       " 'polls/tool/src/java/org/sakaiproject/poll/tool/evolvers': 1,\n",
       " 'polls/tool/src/java/org/sakaiproject/poll/tool/evolvers/SakaiFCKTextEvolver.java': 1,\n",
       " 'C': 44,\n",
       " 'polls/tool/src/webapp/WEB-INF/requestContext.xml': 2,\n",
       " 'polls/tool/pom.xml': 1,\n",
       " 'resolved': 13,\n",
       " 'Resolved': 11,\n",
       " 'conflicted': 10,\n",
       " 'state': 12,\n",
       " \"'polls/tool/src/webapp/WEB-INF/requestContext.xml\": 1,\n",
       " '06:08:27': 4,\n",
       " '[141.211.14.98])': 141,\n",
       " 'casino.mail.umich.edu': 141,\n",
       " 'm04B8Qw9001368;': 1,\n",
       " '06:08:26': 1,\n",
       " '477E13A5.30FC0.24054': 1,\n",
       " '06:08:23': 1,\n",
       " '784A476D7B;': 1,\n",
       " '11:08:12': 1,\n",
       " '<200801041106.m04B6lK3006677@nakamura.uits.iupui.edu>': 1,\n",
       " '585': 3,\n",
       " '11:07:56': 1,\n",
       " '1CACC42D0C': 1,\n",
       " '11:07:58': 1,\n",
       " 'm04B6lWM006679': 1,\n",
       " '06:06:47': 3,\n",
       " 'm04B6lK3006677': 1,\n",
       " 'polls/trunk:': 3,\n",
       " '0.6948': 3,\n",
       " 'http://source.sakaiproject.org/viewsvn/?view=rev&rev=39753': 1,\n",
       " '06:05:51': 1,\n",
       " '39753': 1,\n",
       " 'polls/trunk/tool/src/java/org/sakaiproject/poll/tool/evolvers/': 1,\n",
       " 'polls/trunk/tool/src/java/org/sakaiproject/poll/tool/evolvers/SakaiFCKTextEvolver.java': 1,\n",
       " 'polls/trunk/.classpath': 1,\n",
       " 'polls/trunk/tool/pom.xml': 2,\n",
       " 'polls/trunk/tool/src/webapp/WEB-INF/requestContext.xml': 2,\n",
       " '04:49:08': 4,\n",
       " '[141.211.14.92])': 132,\n",
       " 'galaxyquest.mr.itd.umich.edu': 180,\n",
       " '(galaxyquest.mr.itd.umich.edu': 90,\n",
       " '[141.211.93.145])': 90,\n",
       " 'score.mail.umich.edu': 132,\n",
       " 'm049n60G017588;': 1,\n",
       " '04:49:06': 1,\n",
       " '477E010C.48C2.10259': 1,\n",
       " '04:49:03': 1,\n",
       " '254CC8CDEE;': 1,\n",
       " '09:48:55': 1,\n",
       " '<200801040947.m049lUxo006517@nakamura.uits.iupui.edu>': 1,\n",
       " '246': 2,\n",
       " '09:48:36': 1,\n",
       " '8C13342C92': 1,\n",
       " '09:48:40': 1,\n",
       " 'm049lU3P006519': 1,\n",
       " '04:47:30': 3,\n",
       " 'm049lUxo006517': 1,\n",
       " 'r39752': 1,\n",
       " 'podcasts/branches/sakai_2-5-x/podcasts-app/src/webapp:': 2,\n",
       " 'css': 7,\n",
       " 'podcasts': 5,\n",
       " '0.6528': 2,\n",
       " 'http://source.sakaiproject.org/viewsvn/?view=rev&rev=39752': 1,\n",
       " '04:47:16': 1,\n",
       " '39752': 1,\n",
       " 'podcasts/branches/sakai_2-5-x/podcasts-app/src/webapp/css/podcaster.css': 2,\n",
       " 'podcasts/branches/sakai_2-5-x/podcasts-app/src/webapp/podcasts/podMain.jsp': 2,\n",
       " '-r39641': 1,\n",
       " 'https://source.sakaiproject.org/svn/podcasts/trunk': 6,\n",
       " 'r39641': 2,\n",
       " 'josrodri@iupui.edu': 131,\n",
       " '2007-12-28': 8,\n",
       " '23:44:24': 1,\n",
       " '28': 561,\n",
       " 'SAK-9882:': 4,\n",
       " 'refactored': 7,\n",
       " 'podMain.jsp': 2,\n",
       " 'right': 6,\n",
       " 'way': 7,\n",
       " '(at': 2,\n",
       " 'least': 2,\n",
       " 'much': 4,\n",
       " 'closer': 4,\n",
       " 'to)': 2,\n",
       " '-c39641': 1,\n",
       " 'podcasts/': 2,\n",
       " 'podcasts/podcasts-app/src/webapp/podcasts/podMain.jsp': 2,\n",
       " 'podcasts/podcasts-app/src/webapp/css/podcaster.css': 2,\n",
       " 'merged': 21,\n",
       " 'manualy': 2,\n",
       " '04:33:44': 4,\n",
       " 'workinggirl.mr.itd.umich.edu': 174,\n",
       " '(workinggirl.mr.itd.umich.edu': 87,\n",
       " '[141.211.93.143])': 87,\n",
       " 'm049Xge3031803;': 1,\n",
       " '04:33:42': 1,\n",
       " '477DFD6C.75DBE.26054': 1,\n",
       " '04:33:35': 1,\n",
       " '6C929BA656;': 1,\n",
       " '09:33:27': 1,\n",
       " '<200801040932.m049W2i5006493@nakamura.uits.iupui.edu>': 1,\n",
       " '153': 2,\n",
       " '09:33:10': 1,\n",
       " '6C69423767': 1,\n",
       " '09:33:13': 1,\n",
       " 'm049W3fl006495': 1,\n",
       " '04:32:03': 1,\n",
       " 'm049W2i5006493': 1,\n",
       " '04:32:02': 2,\n",
       " 'r39751': 1,\n",
       " 'images': 4,\n",
       " 'http://source.sakaiproject.org/viewsvn/?view=rev&rev=39751': 1,\n",
       " '04:31:35': 1,\n",
       " '39751': 1,\n",
       " 'podcasts/branches/sakai_2-5-x/podcasts-app/src/webapp/images/rss-feed-icon.png': 1,\n",
       " 'podcasts/branches/sakai_2-5-x/podcasts-app/src/webapp/podcasts/podPermissions.jsp': 1,\n",
       " 'podcasts/branches/sakai_2-5-x/podcasts-app/src/webapp/podcasts/podDelete.jsp': 1,\n",
       " 'podcasts/branches/sakai_2-5-x/podcasts-app/src/webapp/podcasts/podNoResource.jsp': 1,\n",
       " 'podcasts/branches/sakai_2-5-x/podcasts-app/src/webapp/podcasts/podOptions.jsp': 1,\n",
       " '-r39146': 1,\n",
       " 'r39146': 2,\n",
       " '2007-12-12': 59,\n",
       " '21:40:33': 1,\n",
       " '(Wed,': 347,\n",
       " '12': 737,\n",
       " 'other': 20,\n",
       " 'pages': 4,\n",
       " 'as': 99,\n",
       " 'well': 9,\n",
       " 'take': 8,\n",
       " 'advantage': 4,\n",
       " 'proper': 7,\n",
       " 'jsp': 4,\n",
       " 'components': 7,\n",
       " 'validation': 6,\n",
       " 'cleanup.': 2,\n",
       " '-c39146': 1,\n",
       " 'D': 16,\n",
       " 'podcasts/podcasts-app/src/webapp/podcasts/podPermissions.jsp': 1,\n",
       " 'podcasts/podcasts-app/src/webapp/podcasts/podDelete.jsp': 1,\n",
       " 'podcasts/podcasts-app/src/webapp/podcasts/podNoResource.jsp': 1,\n",
       " ...}"
      ]
     },
     "execution_count": 147,
     "metadata": {},
     "output_type": "execute_result"
    }
   ],
   "source": [
    "wordcount"
   ]
  },
  {
   "cell_type": "markdown",
   "metadata": {},
   "source": [
    "Q: Do the word count after cleaning the data. remove non-alphabatic characters"
   ]
  },
  {
   "cell_type": "code",
   "execution_count": null,
   "metadata": {},
   "outputs": [],
   "source": []
  }
 ],
 "metadata": {
  "kernelspec": {
   "display_name": "Python 3 (ipykernel)",
   "language": "python",
   "name": "python3"
  },
  "language_info": {
   "codemirror_mode": {
    "name": "ipython",
    "version": 3
   },
   "file_extension": ".py",
   "mimetype": "text/x-python",
   "name": "python",
   "nbconvert_exporter": "python",
   "pygments_lexer": "ipython3",
   "version": "3.12.3"
  },
  "toc": {
   "base_numbering": 1,
   "nav_menu": {},
   "number_sections": true,
   "sideBar": true,
   "skip_h1_title": false,
   "title_cell": "Table of Contents",
   "title_sidebar": "Contents",
   "toc_cell": false,
   "toc_position": {},
   "toc_section_display": true,
   "toc_window_display": false
  }
 },
 "nbformat": 4,
 "nbformat_minor": 4
}
