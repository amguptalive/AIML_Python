{
 "cells": [
  {
   "cell_type": "code",
   "execution_count": 1,
   "id": "44eb4f7c-e554-4d71-b97f-e4d41bef3e60",
   "metadata": {},
   "outputs": [],
   "source": [
    "#homework"
   ]
  },
  {
   "cell_type": "code",
   "execution_count": 59,
   "id": "8075e77d-45a4-446d-a827-12be136a876d",
   "metadata": {},
   "outputs": [
    {
     "ename": "TypeError",
     "evalue": "Node.__init__() got an unexpected keyword argument 'feature'",
     "output_type": "error",
     "traceback": [
      "\u001b[0;31m---------------------------------------------------------------------------\u001b[0m",
      "\u001b[0;31mTypeError\u001b[0m                                 Traceback (most recent call last)",
      "Cell \u001b[0;32mIn[59], line 5\u001b[0m\n\u001b[1;32m      2\u001b[0m no \u001b[38;5;241m=\u001b[39m Node(is_leaf\u001b[38;5;241m=\u001b[39m\u001b[38;5;28;01mTrue\u001b[39;00m, answer\u001b[38;5;241m=\u001b[39m\u001b[38;5;28;01mFalse\u001b[39;00m)\n\u001b[1;32m      4\u001b[0m \u001b[38;5;66;03m# Define the internal nodes\u001b[39;00m\n\u001b[0;32m----> 5\u001b[0m parttime \u001b[38;5;241m=\u001b[39m \u001b[43mNode\u001b[49m\u001b[43m(\u001b[49m\u001b[43mfeature\u001b[49m\u001b[38;5;241;43m=\u001b[39;49m\u001b[38;5;124;43m\"\u001b[39;49m\u001b[38;5;124;43mis_parttime\u001b[39;49m\u001b[38;5;124;43m\"\u001b[39;49m\u001b[43m,\u001b[49m\u001b[43m \u001b[49m\u001b[43mboundary\u001b[49m\u001b[38;5;241;43m=\u001b[39;49m\u001b[38;5;241;43m1\u001b[39;49m\u001b[43m)\u001b[49m\n\u001b[1;32m      6\u001b[0m parttime\u001b[38;5;241m.\u001b[39mright \u001b[38;5;241m=\u001b[39m yes\n\u001b[1;32m      7\u001b[0m parttime\u001b[38;5;241m.\u001b[39mleft \u001b[38;5;241m=\u001b[39m no\n",
      "\u001b[0;31mTypeError\u001b[0m: Node.__init__() got an unexpected keyword argument 'feature'"
     ]
    }
   ],
   "source": []
  },
  {
   "cell_type": "code",
   "execution_count": null,
   "id": "734513b6-291f-462b-819f-3152c1572458",
   "metadata": {},
   "outputs": [],
   "source": [
    "Q: Design a decision tree\n",
    "\n",
    "Will I take a job?\n",
    "\n",
    "class Node:\n",
    "    def __init__(self,...):\n",
    "        self.feature = '' # \n",
    "        self.boundary\n",
    "        self.leftNode\n",
    "        self.rightNode\n",
    "        self.is_leaf\n",
    "        self.answer = yes/ no\n",
    "    def take_decision(self, job):\n",
    "        # create a method called take_decision\n",
    "        # check if it is leaf, return yes/no answer\n",
    "        # if the feature's value in the job is less than the boundary, \n",
    "        # call left.take_decision() else call right.take_decision"
   ]
  },
  {
   "cell_type": "code",
   "execution_count": 80,
   "id": "abab20f8-7f54-4d2c-a6df-9222bb5944ab",
   "metadata": {},
   "outputs": [],
   "source": [
    "class Node:\n",
    "    def __init__(self, feature=None, boundary=None, is_leaf=False, answer=None):\n",
    "        self.is_leaf = is_leaf\n",
    "        self.answer = answer\n",
    "        self.feature = feature\n",
    "        self.boundary = boundary\n",
    "        self.left = None\n",
    "        self.right = None\n",
    "        \n",
    "  \n",
    "\n",
    "    def __repr__(self):\n",
    "        return f\"[(leaf , answer) -->{self.is_leaf , self.answer}]\"\n",
    "     \n",
    "    def show(self, tab=\"\"):\n",
    "        print(f\"is_left: {self.is_leaf} self.answer: {self.answer}\")\n",
    "        if self.left:\n",
    "            self.left.show(\"\\t\" + tab)\n",
    "        if self.right:\n",
    "            self.right.show(\"\\t\" + tab)  \n",
    "\n",
    "    def take_decision(self, feature_dict):\n",
    "        if self.is_leaf:\n",
    "            return self.answer\n",
    "        if feature_dict[self.feature] < self.boundary:\n",
    "            return self.left.take_decision(feature_dict)\n",
    "        else:\n",
    "            return self.right.take_decision(feature_dict)\n",
    " "
   ]
  },
  {
   "cell_type": "code",
   "execution_count": 81,
   "id": "82a515e4-920b-4d2d-a41f-df167c3f8303",
   "metadata": {},
   "outputs": [
    {
     "name": "stdout",
     "output_type": "stream",
     "text": [
      "Test case 1: True\n"
     ]
    }
   ],
   "source": [
    "# Define the leaf nodes\n",
    "yes = Node(is_leaf=True, answer=True)\n",
    "no = Node(is_leaf=True, answer=False)\n",
    " \n",
    "# Define the internal nodes\n",
    "parttime = Node(feature=\"is_parttime\", boundary=1)\n",
    "parttime.right = yes\n",
    "parttime.left = no\n",
    "\n",
    "salary = Node(feature=\"salary\", boundary=10000)\n",
    "salary.right = yes\n",
    "salary.left = parttime\n",
    "\n",
    "# Define the root node\n",
    "root = salary\n",
    "\n",
    "root = salary\n",
    "decision=root.take_decision({\"salary\":11000, \"is_parttime\":0}) # Yes\n",
    "print(f\"Test case 1: {decision}\")\n",
    "\n"
   ]
  },
  {
   "cell_type": "code",
   "execution_count": 84,
   "id": "8b80006e-c94a-4d9f-bb72-d4264547dc75",
   "metadata": {},
   "outputs": [
    {
     "data": {
      "text/plain": [
       "True"
      ]
     },
     "execution_count": 84,
     "metadata": {},
     "output_type": "execute_result"
    }
   ],
   "source": [
    "root.take_decision({\"salary\":5000, \"is_parttime\":1}) # Yes\n",
    "\n"
   ]
  },
  {
   "cell_type": "code",
   "execution_count": 87,
   "id": "c1e6d576-e108-4243-9e8a-29139cb3acb9",
   "metadata": {},
   "outputs": [
    {
     "data": {
      "text/plain": [
       "False"
      ]
     },
     "execution_count": 87,
     "metadata": {},
     "output_type": "execute_result"
    }
   ],
   "source": [
    "root.take_decision({\"salary\":5000, \"is_parttime\":0}) # NO\n",
    "\n",
    " \n"
   ]
  },
  {
   "cell_type": "code",
   "execution_count": 40,
   "id": "53a327c6-6b74-450c-96cc-e33fcdc36e39",
   "metadata": {},
   "outputs": [
    {
     "data": {
      "text/plain": [
       "[(leaf , answer) -->(True, True)]"
      ]
     },
     "execution_count": 40,
     "metadata": {},
     "output_type": "execute_result"
    }
   ],
   "source": [
    "yes"
   ]
  },
  {
   "cell_type": "code",
   "execution_count": 28,
   "id": "b15902e8-7b94-4464-90fb-dd5316f82291",
   "metadata": {},
   "outputs": [
    {
     "data": {
      "text/plain": [
       "[(leaf , answer) -->(True, False)]"
      ]
     },
     "execution_count": 28,
     "metadata": {},
     "output_type": "execute_result"
    }
   ],
   "source": [
    "no"
   ]
  },
  {
   "cell_type": "code",
   "execution_count": 41,
   "id": "a925d2cf-739c-4bd7-9aff-3be3e5d058d3",
   "metadata": {},
   "outputs": [],
   "source": [
    "parttime = Node(\"is_parttime\", 1)\n",
    "# parttime.right = yes\n",
    "# parttime.left = no"
   ]
  },
  {
   "cell_type": "code",
   "execution_count": 42,
   "id": "30f3f886-e3c0-4eed-91b5-1e830be8b85d",
   "metadata": {},
   "outputs": [
    {
     "data": {
      "text/plain": [
       "[(leaf , answer) -->('is_parttime', 1)]"
      ]
     },
     "execution_count": 42,
     "metadata": {},
     "output_type": "execute_result"
    }
   ],
   "source": [
    "parttime"
   ]
  },
  {
   "cell_type": "code",
   "execution_count": 43,
   "id": "3da1b35b-9190-416f-a8a1-b867b9a8e9bc",
   "metadata": {},
   "outputs": [],
   "source": [
    "parttime.right = yes"
   ]
  },
  {
   "cell_type": "code",
   "execution_count": 44,
   "id": "5cab01ed-0853-4540-a88c-50e26226cff6",
   "metadata": {},
   "outputs": [
    {
     "data": {
      "text/plain": [
       "[(leaf , answer) -->('is_parttime', 1)]"
      ]
     },
     "execution_count": 44,
     "metadata": {},
     "output_type": "execute_result"
    }
   ],
   "source": [
    "parttime"
   ]
  },
  {
   "cell_type": "code",
   "execution_count": 45,
   "id": "283a62ce-66ea-45b3-90be-b4fcff400c69",
   "metadata": {},
   "outputs": [],
   "source": [
    "parttime.left = no"
   ]
  },
  {
   "cell_type": "code",
   "execution_count": 46,
   "id": "af6bf91b-6951-45c4-950c-1f6b62b9903e",
   "metadata": {},
   "outputs": [
    {
     "data": {
      "text/plain": [
       "[(leaf , answer) -->('is_parttime', 1)]"
      ]
     },
     "execution_count": 46,
     "metadata": {},
     "output_type": "execute_result"
    }
   ],
   "source": [
    "parttime"
   ]
  },
  {
   "cell_type": "code",
   "execution_count": 47,
   "id": "c4b5958f-6aa9-41f1-9c5e-f845630b19c9",
   "metadata": {},
   "outputs": [
    {
     "name": "stdout",
     "output_type": "stream",
     "text": [
      "is_left: is_parttime self.answer: 1\n",
      "is_left: True self.answer: False\n",
      "is_left: True self.answer: True\n"
     ]
    }
   ],
   "source": [
    "parttime.show()"
   ]
  },
  {
   "cell_type": "code",
   "execution_count": 36,
   "id": "e80d9b1a-35e7-4df6-a831-8017263a23b4",
   "metadata": {},
   "outputs": [],
   "source": [
    "salary = Node(\"salary\", 10000)\n",
    "salary.right = yes\n",
    "salary.left = parttime"
   ]
  },
  {
   "cell_type": "code",
   "execution_count": 37,
   "id": "01bc7208-32b2-4ecd-ae54-6011776ffae4",
   "metadata": {},
   "outputs": [
    {
     "name": "stdout",
     "output_type": "stream",
     "text": [
      "is_left: salary self.answer: 10000\n",
      "is_left: is_parttime self.answer: 1\n",
      "is_left: True self.answer: False\n",
      "is_left: True self.answer: True\n",
      "is_left: True self.answer: True\n"
     ]
    }
   ],
   "source": [
    "salary.show()"
   ]
  },
  {
   "cell_type": "code",
   "execution_count": 88,
   "id": "5a2a854a-32e8-4abf-8813-6b54cdc5b2c6",
   "metadata": {},
   "outputs": [
    {
     "data": {
      "text/plain": [
       "True"
      ]
     },
     "execution_count": 88,
     "metadata": {},
     "output_type": "execute_result"
    }
   ],
   "source": [
    "root = salary\n",
    "root.take_decision({\"salary\":11000, \"is_parttime\":0}) # Yes\n",
    "\n"
   ]
  },
  {
   "cell_type": "code",
   "execution_count": 98,
   "id": "ef4c9418-e35a-44a7-825f-93b2b1d56458",
   "metadata": {},
   "outputs": [],
   "source": [
    "def binary_search(target,arr):\n",
    "    arr=arr.sort()\n",
    "    low = arr[0]\n",
    "    print(f\"low:{low}\")\n",
    "    high=arr[len(arr)-1]\n",
    "    print(f\"high:{high}\")\n",
    "    guess = (low + high) / 2\n",
    "    print(f\"guess:{guess}\")\n",
    "    while guess  - target > 0:\n",
    "        if guess > target:\n",
    "            high = guess\n",
    "        else:\n",
    "            low = guess\n",
    "        guess = (low + high) / 2\n",
    "    \n",
    "    return guess\n"
   ]
  },
  {
   "cell_type": "code",
   "execution_count": 99,
   "id": "446e018a-0787-47c9-b8bb-d0e0c4aedf1f",
   "metadata": {},
   "outputs": [
    {
     "name": "stdout",
     "output_type": "stream",
     "text": [
      "None\n"
     ]
    }
   ],
   "source": [
    " \n",
    "binary_search(24,[0,3,5,6,14,18,18,20,22,32,34,41,61,70,92,99])"
   ]
  },
  {
   "cell_type": "code",
   "execution_count": null,
   "id": "0cc42517-d768-47b9-927d-4f85299d7ed2",
   "metadata": {},
   "outputs": [],
   "source": [
    "# Q: You have a sequence starting from 0, find the missing number: Example: [0, 1, 2, 3, 4, 6] Answer: 5\n",
    " \n",
    "# Example: [1, 2, 3,4] Answer: 0\n",
    "# Example: [0, 1, 2, 3, 4, 5, 6, 7, 8, 9, 10, 12] Answer: 11\n",
    "\n",
    "def find_missing_number(arr):\n",
    "    # Initialize the indexes\n",
    "    left = 0\n",
    "    right = len(arr) - 1\n",
    "\n",
    "    while left <= right:\n",
    "        mid = (left + right) // 2\n",
    "        midval = arr[mid]\n",
    "\n",
    "        # If the mid value is not equal to its index, the missing number is on the left side\n",
    "        if midval != mid:\n",
    "            right = mid - 1\n",
    "        else:\n",
    "            left = mid + 1\n",
    "\n",
    "        # The missing number is the index where the condition breaks\n",
    "    return left\n",
    "#find_missing_number([1, 2, 3,4])\n",
    "#find_missing_number([0, 1, 2, 3, 4, 5, 6, 7, 8, 9, 10, 12])\n",
    "#find_missing_number([0, 1, 2, 3, 4, 6])\n",
    "testcases = [\n",
    "    ([1, 2, 3,4], 0),\n",
    "    ([0, 1, 2, 3, 4, 5, 6, 7, 8, 9, 10, 12], 11),\n",
    "    ([0, 1, 2, 3, 4, 6], 5)\n",
    "]\n",
    "\n",
    "for data, exp in testcases:\n",
    "    print(\"Testing: \", data)\n",
    "    actual = find_missing_number(data)\n",
    "    if exp != actual:\n",
    "        print(f\"Failed: Expected {exp} but got {actual}\")\n",
    "    else:\n",
    "        print(\"Success!!\")"
   ]
  },
  {
   "cell_type": "code",
   "execution_count": 130,
   "id": "5acc37d6-a25a-4a6f-9f6d-6696da34c84d",
   "metadata": {},
   "outputs": [
    {
     "data": {
      "text/plain": [
       "2"
      ]
     },
     "execution_count": 130,
     "metadata": {},
     "output_type": "execute_result"
    }
   ],
   "source": [
    "#Q: You have an array of 0s followed by 1s. arr = [0, 0,0, 0, 1, 1] Cound how many zeros are there.\n",
    "\n",
    "# Example: [0, 0,0, 0, 1, 1] Answer: 4\n",
    "\n",
    "# Example: [0, 0,1, 1] Answer: 2\n",
    "\n",
    "# Example: [1, 1, 1] Answer: 0\n",
    "\n",
    "# Example: [0, 0, 0] Answer: 3\n",
    "def count_zeros(arr):\n",
    "    # Initialize the indexes\n",
    "    left = 0\n",
    "    right = len(arr) - 1\n",
    "     \n",
    "    while left <= right:\n",
    "        mid = (left + right) // 2\n",
    "        midval = arr[mid]\n",
    "\n",
    "        # If the mid value is not equal to 0, the 0 should be on the left side\n",
    "        if midval != 0:\n",
    "            right = mid - 1\n",
    "        else:\n",
    "            left = mid + 1\n",
    "            #print(f\"left:{left}\")    \n",
    "    return left\n",
    "#count_zeros([1, 1, 1])\n",
    "count_zeros([0, 0,1, 1])\n",
    "#count_zeros([0, 0,0, 0, 1, 1])\n",
    "#count_zeros([0, 0, 0])"
   ]
  },
  {
   "cell_type": "code",
   "execution_count": 6,
   "id": "7777f1b0-7156-46d1-a2eb-190273758eb2",
   "metadata": {},
   "outputs": [
    {
     "name": "stdout",
     "output_type": "stream",
     "text": [
      "6\n",
      "2\n",
      "3\n",
      "0\n"
     ]
    }
   ],
   "source": [
    "#Q: You have an array of 0s followed by 1s and then twos. arr = [0, 0,0, 0, 1, 1, 2, 2] Find the sum of the array\n",
    "\n",
    "#Example: [0, 0,0, 0, 1, 1, 2, 2] Answer: 6\n",
    "\n",
    "#Example: [0, 0,1, 1] Answer: 2\n",
    "\n",
    "#Example: [1, 1, 1] Answer: 3\n",
    "\n",
    "#Example: [0, 0, 0] Answer: 0\n",
    "def s_array(arr):\n",
    "    # Initialize the indexes\n",
    "    left = 0\n",
    "    right = len(arr) - 1\n",
    "    s=0\n",
    "    while left <= right:\n",
    "        mid = (left + right) // 2\n",
    "        midval = arr[mid]\n",
    "        #print(f\"mid={mid}, midval={arr[mid]}\") \n",
    "        # If the mid value is not equal to 0, the 0 should be on the left side\n",
    "        if midval == 0 : #if midval 0 then go right\n",
    "            left = mid + 1\n",
    "        else :\n",
    "            right = mid - 1\n",
    "        \n",
    "    for i in range(left,len(arr)):\n",
    "        s= s + arr[i]\n",
    "    return s\n",
    "#s_array([0, 0,0, 0, 1, 1, 2, 2]) # should be 6\n",
    "#s_array([0, 0, 1, 1]) #Answer: 2\n",
    "#s_array([1, 1, 1]) #Answer: 3\n",
    "#s_array([0, 0, 0]) ##Answer: 0\n",
    "# Test cases\n",
    "print(s_array([0, 0, 0, 0, 1, 1, 2, 2]))  # Answer: 6\n",
    "print(s_array([0, 0, 1, 1]))              # Answer: 2\n",
    "print(s_array([1, 1, 1]))                 # Answer: 3\n",
    "print(s_array([0, 0, 0]))                 # Answer: 0"
   ]
  },
  {
   "cell_type": "code",
   "execution_count": 3,
   "id": "c1aee8cf-3015-4ebc-9de4-0abadb7fe91f",
   "metadata": {},
   "outputs": [
    {
     "name": "stdout",
     "output_type": "stream",
     "text": [
      "2\n",
      "Testing:  [10, 5, -2, -3, 1, 2, 3, 4, 9]\n",
      "Success!!\n",
      "Testing:  [10.5, 10, 11, 12, 12.5]\n",
      "Success!!\n",
      "Testing:  [10.5, 10.1, 10.05, 10, 1]\n",
      "Success!!\n",
      "Testing:  [1, 10, 11, 12]\n",
      "Success!!\n",
      "Testing:  [1, 2]\n",
      "Success!!\n",
      "Testing:  [2, 1]\n",
      "Success!!\n",
      "Testing:  [1]\n",
      "Success!!\n"
     ]
    }
   ],
   "source": [
    "#Q: Find any minima\n",
    "\n",
    "# Example: [10, 2, 3, 4, 5, 0, 7, 8, 9] Ans: 2 or 0\n",
    "def find_min_convex(data):\n",
    "    #data.sort()\n",
    "    #print(data)\n",
    "    left = 0\n",
    "    right = len(data) - 1\n",
    "\n",
    "    while left != right:\n",
    "        mid = (left + right) // 2  # middle index\n",
    "        midval = data[mid]\n",
    "        # Check adjacent left\n",
    "        if mid > 0 and data[mid - 1] < midval:\n",
    "            right = mid - 1\n",
    "        # Check adjacent right\n",
    "        elif mid < len(data) - 1 and data[mid + 1] < midval:\n",
    "            left = mid + 1\n",
    "        else:\n",
    "            return midval\n",
    "\n",
    "    return data[left]\n",
    "\n",
    "# find_min_convex([10, 2, 3, 4, 5, 0, 7, 8, 9] )\n",
    "print(find_min_convex([10, 2, 3, 4, 5, 0, 7, 8, 9] ))\n",
    "\n",
    "testcases = [\n",
    "    ([10, 5, -2, -3, 1, 2, 3, 4,9], -3),\n",
    "    ([10.5, 10, 11, 12, 12.5], 10),\n",
    "    ([10.5, 10.1, 10.05, 10, 1], 1),\n",
    "    ([1, 10, 11, 12], 1),\n",
    "    ([1,2], 1),\n",
    "    ([2,1], 1),\n",
    "    ([1], 1)\n",
    "]\n",
    "\n",
    "for data, exp in testcases:\n",
    "    print(\"Testing: \", data)\n",
    "    actual = find_min_convex(data)\n",
    "    if exp != actual:\n",
    "        print(f\"Failed: Expected {exp} but got {actual}\")\n",
    "    else:\n",
    "        print(\"Success!!\")"
   ]
  },
  {
   "cell_type": "code",
   "execution_count": null,
   "id": "5d6b5191-248f-4f83-b792-aed6ba36bb54",
   "metadata": {},
   "outputs": [],
   "source": [
    "# above code if uses sorting an array order of complexity will be (O(n \\log n)). How can we resolve this? However, this requires the list to be \n",
    "# in a specific order, such as a bitonic sequence (first increasing, then decreasing). \n",
    "# If the list is not bitonic, achieving (O(\\log n)) complexity is not feasible."
   ]
  }
 ],
 "metadata": {
  "kernelspec": {
   "display_name": "Python 3 (ipykernel)",
   "language": "python",
   "name": "python3"
  },
  "language_info": {
   "codemirror_mode": {
    "name": "ipython",
    "version": 3
   },
   "file_extension": ".py",
   "mimetype": "text/x-python",
   "name": "python",
   "nbconvert_exporter": "python",
   "pygments_lexer": "ipython3",
   "version": "3.12.3"
  }
 },
 "nbformat": 4,
 "nbformat_minor": 5
}
